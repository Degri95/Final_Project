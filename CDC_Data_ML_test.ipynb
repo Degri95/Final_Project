{
 "cells": [
  {
   "cell_type": "code",
   "execution_count": 53,
   "metadata": {},
   "outputs": [],
   "source": [
    "import pandas as pd\n",
    "from pathlib import Path\n",
    "from collections import Counter\n",
    "from sklearn.metrics import balanced_accuracy_score\n",
    "from sklearn.metrics import confusion_matrix\n",
    "from imblearn.metrics import classification_report_imbalanced\n",
    "from sklearn.preprocessing import StandardScaler\n",
    "from sklearn.model_selection import train_test_split\n",
    "from sklearn.metrics import confusion_matrix, accuracy_score, classification_report\n",
    "from matplotlib import pyplot as plt\n",
    "import hvplot.pandas\n",
    "from imblearn.combine import SMOTEENN\n",
    "import findspark\n",
    "findspark.init()\n",
    "from pyspark.sql import SparkSession\n",
    "from pyspark import SparkFiles\n"
   ]
  },
  {
   "cell_type": "code",
   "execution_count": 5,
   "metadata": {},
   "outputs": [],
   "source": [
    "# spark = SparkSession.builder.appName(\"CloudETL\").config(\"spark.driver.extraClassPath\",\"/content/postgresql-42.2.9.jar\").getOrCreate()"
   ]
  },
  {
   "cell_type": "markdown",
   "metadata": {},
   "source": [
    "# Evaluating the correlation of cancer with risk factors"
   ]
  },
  {
   "cell_type": "code",
   "execution_count": 47,
   "metadata": {},
   "outputs": [
    {
     "data": {
      "text/html": [
       "<div>\n",
       "<style scoped>\n",
       "    .dataframe tbody tr th:only-of-type {\n",
       "        vertical-align: middle;\n",
       "    }\n",
       "\n",
       "    .dataframe tbody tr th {\n",
       "        vertical-align: top;\n",
       "    }\n",
       "\n",
       "    .dataframe thead th {\n",
       "        text-align: right;\n",
       "    }\n",
       "</style>\n",
       "<table border=\"1\" class=\"dataframe\">\n",
       "  <thead>\n",
       "    <tr style=\"text-align: right;\">\n",
       "      <th></th>\n",
       "      <th>density</th>\n",
       "      <th>total_population</th>\n",
       "      <th>countyfips</th>\n",
       "      <th>cancer</th>\n",
       "      <th>binge</th>\n",
       "      <th>csmoking</th>\n",
       "      <th>lpa</th>\n",
       "      <th>sleep</th>\n",
       "    </tr>\n",
       "  </thead>\n",
       "  <tbody>\n",
       "    <tr>\n",
       "      <th>0</th>\n",
       "      <td>94.3</td>\n",
       "      <td>56059</td>\n",
       "      <td>1001</td>\n",
       "      <td>6.5</td>\n",
       "      <td>15.0</td>\n",
       "      <td>19.7</td>\n",
       "      <td>32.2</td>\n",
       "      <td>38.4</td>\n",
       "    </tr>\n",
       "    <tr>\n",
       "      <th>1</th>\n",
       "      <td>141.8</td>\n",
       "      <td>225463</td>\n",
       "      <td>1003</td>\n",
       "      <td>6.7</td>\n",
       "      <td>19.0</td>\n",
       "      <td>19.9</td>\n",
       "      <td>27.6</td>\n",
       "      <td>36.4</td>\n",
       "    </tr>\n",
       "    <tr>\n",
       "      <th>2</th>\n",
       "      <td>27.8</td>\n",
       "      <td>24575</td>\n",
       "      <td>1005</td>\n",
       "      <td>6.2</td>\n",
       "      <td>13.7</td>\n",
       "      <td>27.8</td>\n",
       "      <td>41.6</td>\n",
       "      <td>40.9</td>\n",
       "    </tr>\n",
       "    <tr>\n",
       "      <th>3</th>\n",
       "      <td>36.0</td>\n",
       "      <td>22427</td>\n",
       "      <td>1007</td>\n",
       "      <td>6.5</td>\n",
       "      <td>15.6</td>\n",
       "      <td>25.2</td>\n",
       "      <td>37.7</td>\n",
       "      <td>40.1</td>\n",
       "    </tr>\n",
       "    <tr>\n",
       "      <th>4</th>\n",
       "      <td>89.9</td>\n",
       "      <td>57997</td>\n",
       "      <td>1009</td>\n",
       "      <td>6.7</td>\n",
       "      <td>15.7</td>\n",
       "      <td>22.2</td>\n",
       "      <td>33.3</td>\n",
       "      <td>38.8</td>\n",
       "    </tr>\n",
       "  </tbody>\n",
       "</table>\n",
       "</div>"
      ],
      "text/plain": [
       "   density  total_population  countyfips  cancer  binge  csmoking   lpa  sleep\n",
       "0     94.3             56059        1001     6.5   15.0      19.7  32.2   38.4\n",
       "1    141.8            225463        1003     6.7   19.0      19.9  27.6   36.4\n",
       "2     27.8             24575        1005     6.2   13.7      27.8  41.6   40.9\n",
       "3     36.0             22427        1007     6.5   15.6      25.2  37.7   40.1\n",
       "4     89.9             57997        1009     6.7   15.7      22.2  33.3   38.8"
      ]
     },
     "execution_count": 47,
     "metadata": {},
     "output_type": "execute_result"
    }
   ],
   "source": [
    "cancer_hr_df = pd.read_csv('data/cancer_health_risk_merged.csv')\n",
    "cancer_hr_df.head()"
   ]
  },
  {
   "cell_type": "code",
   "execution_count": 48,
   "metadata": {},
   "outputs": [
    {
     "data": {
      "text/plain": [
       "0    3089\n",
       "1      32\n",
       "Name: cancer_risk, dtype: int64"
      ]
     },
     "execution_count": 48,
     "metadata": {},
     "output_type": "execute_result"
    }
   ],
   "source": [
    "#create loop to iterate through cancer_hr_df and classify any cancner rate 1 standard deviation above the mean as '1', and anything else 0\n",
    "cancer_risk = []\n",
    "for risk in cancer_hr_df['cancer']:\n",
    "    if risk <= 6.96:\n",
    "        cancer_risk.append(\"0\")\n",
    "    if risk > 6.96:\n",
    "        cancer_risk.append(\"1\")\n",
    "\n",
    "cancer_hr_df['cancer_risk'] = cancer_risk\n",
    "cancer_hr_df['cancer_risk'].value_counts()"
   ]
  },
  {
   "cell_type": "code",
   "execution_count": 49,
   "metadata": {},
   "outputs": [],
   "source": [
    "X = cancer_hr_df.drop(['cancer_risk', 'cancer'], axis=1)\n",
    "y = cancer_hr_df['cancer_risk'] "
   ]
  },
  {
   "cell_type": "code",
   "execution_count": 50,
   "metadata": {},
   "outputs": [],
   "source": [
    "data_scaler = StandardScaler()"
   ]
  },
  {
   "cell_type": "code",
   "execution_count": 51,
   "metadata": {},
   "outputs": [
    {
     "data": {
      "text/plain": [
       "array([[-0.09371725, -0.13959962, -1.93043438,  0.13366561, -0.97170058,\n",
       "        -0.16660882,  0.31211134,  0.40164309, -0.10178084],\n",
       "       [-0.06679187,  0.36874362, -1.93030287,  0.68438558,  0.31895152,\n",
       "        -0.11884671, -0.47750885, -0.10180206, -0.10178084],\n",
       "       [-0.13141279, -0.23407601, -1.93017136, -0.69241434, -1.39116251,\n",
       "         1.76775682,  1.92568304,  1.03094953, -0.10178084]])"
      ]
     },
     "execution_count": 51,
     "metadata": {},
     "output_type": "execute_result"
    }
   ],
   "source": [
    "# Fitting the scaler\n",
    "cancer_data_scaled = data_scaler.fit_transform(cancer_hr_df)\n",
    "cancer_data_scaled[:3]"
   ]
  },
  {
   "cell_type": "code",
   "execution_count": 54,
   "metadata": {},
   "outputs": [],
   "source": [
    "# Normal train-test split\n",
    "X_train, X_test, y_train, y_test = train_test_split(X, y, random_state=1)"
   ]
  },
  {
   "cell_type": "code",
   "execution_count": 55,
   "metadata": {},
   "outputs": [
    {
     "data": {
      "text/plain": [
       "Counter({'0': 2739, '1': 2766})"
      ]
     },
     "execution_count": 55,
     "metadata": {},
     "output_type": "execute_result"
    }
   ],
   "source": [
    "# . comment explanantion of why SMOTEEN is used to randomly over and undersample data\n",
    "\n",
    "smote_enn = SMOTEENN(random_state=0)\n",
    "X_resampled, y_resampled = smote_enn.fit_resample(X, y)\n",
    "Counter(y_resampled)"
   ]
  },
  {
   "cell_type": "code",
   "execution_count": 56,
   "metadata": {},
   "outputs": [
    {
     "data": {
      "text/plain": [
       "LogisticRegression(random_state=1)"
      ]
     },
     "execution_count": 56,
     "metadata": {},
     "output_type": "execute_result"
    }
   ],
   "source": [
    "# Fit a Logistic regression model using random undersampled data\n",
    "from sklearn.linear_model import LogisticRegression\n",
    "model = LogisticRegression(solver='lbfgs', random_state=1)\n",
    "model.fit(X_resampled, y_resampled)"
   ]
  },
  {
   "cell_type": "code",
   "execution_count": 57,
   "metadata": {},
   "outputs": [
    {
     "data": {
      "text/plain": [
       "array([[557, 216],\n",
       "       [  3,   5]])"
      ]
     },
     "execution_count": 57,
     "metadata": {},
     "output_type": "execute_result"
    }
   ],
   "source": [
    "# Display the confusion matrix\n",
    "from sklearn.metrics import confusion_matrix\n",
    "\n",
    "y_pred = model.predict(X_test)\n",
    "confusion_matrix(y_test, y_pred)"
   ]
  },
  {
   "cell_type": "code",
   "execution_count": 58,
   "metadata": {},
   "outputs": [
    {
     "data": {
      "text/plain": [
       "0.6727846054333765"
      ]
     },
     "execution_count": 58,
     "metadata": {},
     "output_type": "execute_result"
    }
   ],
   "source": [
    "balanced_accuracy_score(y_test, y_pred)"
   ]
  },
  {
   "cell_type": "code",
   "execution_count": 59,
   "metadata": {},
   "outputs": [
    {
     "name": "stdout",
     "output_type": "stream",
     "text": [
      "                   pre       rec       spe        f1       geo       iba       sup\n",
      "\n",
      "          0       0.99      0.72      0.62      0.84      0.67      0.45       773\n",
      "          1       0.02      0.62      0.72      0.04      0.67      0.45         8\n",
      "\n",
      "avg / total       0.98      0.72      0.63      0.83      0.67      0.45       781\n",
      "\n"
     ]
    }
   ],
   "source": [
    "# Print the imbalanced classification report\n",
    "from imblearn.metrics import classification_report_imbalanced\n",
    "\n",
    "print(classification_report_imbalanced(y_test, y_pred))"
   ]
  },
  {
   "cell_type": "markdown",
   "metadata": {},
   "source": [
    "# Predicting the correlation of cancer with prevention services"
   ]
  },
  {
   "cell_type": "code",
   "execution_count": 60,
   "metadata": {},
   "outputs": [
    {
     "data": {
      "text/html": [
       "<div>\n",
       "<style scoped>\n",
       "    .dataframe tbody tr th:only-of-type {\n",
       "        vertical-align: middle;\n",
       "    }\n",
       "\n",
       "    .dataframe tbody tr th {\n",
       "        vertical-align: top;\n",
       "    }\n",
       "\n",
       "    .dataframe thead th {\n",
       "        text-align: right;\n",
       "    }\n",
       "</style>\n",
       "<table border=\"1\" class=\"dataframe\">\n",
       "  <thead>\n",
       "    <tr style=\"text-align: right;\">\n",
       "      <th></th>\n",
       "      <th>density</th>\n",
       "      <th>total_population</th>\n",
       "      <th>countyfips</th>\n",
       "      <th>cancer</th>\n",
       "      <th>access</th>\n",
       "      <th>checkup</th>\n",
       "      <th>dental</th>\n",
       "      <th>bpmed</th>\n",
       "      <th>cholscreen</th>\n",
       "      <th>mammouse</th>\n",
       "      <th>cervical</th>\n",
       "      <th>colon_screen</th>\n",
       "      <th>corem</th>\n",
       "      <th>corew</th>\n",
       "    </tr>\n",
       "  </thead>\n",
       "  <tbody>\n",
       "    <tr>\n",
       "      <th>0</th>\n",
       "      <td>94.3</td>\n",
       "      <td>56059</td>\n",
       "      <td>1001</td>\n",
       "      <td>6.5</td>\n",
       "      <td>16.0</td>\n",
       "      <td>77.0</td>\n",
       "      <td>64.0</td>\n",
       "      <td>61.8</td>\n",
       "      <td>87.0</td>\n",
       "      <td>77.5</td>\n",
       "      <td>86.4</td>\n",
       "      <td>69.5</td>\n",
       "      <td>28.1</td>\n",
       "      <td>26.5</td>\n",
       "    </tr>\n",
       "    <tr>\n",
       "      <th>1</th>\n",
       "      <td>141.8</td>\n",
       "      <td>225463</td>\n",
       "      <td>1003</td>\n",
       "      <td>6.7</td>\n",
       "      <td>14.6</td>\n",
       "      <td>73.3</td>\n",
       "      <td>66.3</td>\n",
       "      <td>58.6</td>\n",
       "      <td>87.0</td>\n",
       "      <td>74.0</td>\n",
       "      <td>87.3</td>\n",
       "      <td>67.5</td>\n",
       "      <td>29.0</td>\n",
       "      <td>28.7</td>\n",
       "    </tr>\n",
       "    <tr>\n",
       "      <th>2</th>\n",
       "      <td>27.8</td>\n",
       "      <td>24575</td>\n",
       "      <td>1005</td>\n",
       "      <td>6.2</td>\n",
       "      <td>24.5</td>\n",
       "      <td>77.6</td>\n",
       "      <td>46.6</td>\n",
       "      <td>65.9</td>\n",
       "      <td>85.5</td>\n",
       "      <td>75.9</td>\n",
       "      <td>84.1</td>\n",
       "      <td>62.1</td>\n",
       "      <td>21.8</td>\n",
       "      <td>22.9</td>\n",
       "    </tr>\n",
       "    <tr>\n",
       "      <th>3</th>\n",
       "      <td>36.0</td>\n",
       "      <td>22427</td>\n",
       "      <td>1007</td>\n",
       "      <td>6.5</td>\n",
       "      <td>20.2</td>\n",
       "      <td>75.8</td>\n",
       "      <td>57.6</td>\n",
       "      <td>63.6</td>\n",
       "      <td>85.4</td>\n",
       "      <td>73.3</td>\n",
       "      <td>84.8</td>\n",
       "      <td>65.7</td>\n",
       "      <td>24.7</td>\n",
       "      <td>24.8</td>\n",
       "    </tr>\n",
       "    <tr>\n",
       "      <th>4</th>\n",
       "      <td>89.9</td>\n",
       "      <td>57997</td>\n",
       "      <td>1009</td>\n",
       "      <td>6.7</td>\n",
       "      <td>19.8</td>\n",
       "      <td>74.8</td>\n",
       "      <td>57.1</td>\n",
       "      <td>61.0</td>\n",
       "      <td>85.2</td>\n",
       "      <td>71.5</td>\n",
       "      <td>84.1</td>\n",
       "      <td>63.9</td>\n",
       "      <td>25.4</td>\n",
       "      <td>24.8</td>\n",
       "    </tr>\n",
       "  </tbody>\n",
       "</table>\n",
       "</div>"
      ],
      "text/plain": [
       "   density  total_population  countyfips  cancer  access  checkup  dental  \\\n",
       "0     94.3             56059        1001     6.5    16.0     77.0    64.0   \n",
       "1    141.8            225463        1003     6.7    14.6     73.3    66.3   \n",
       "2     27.8             24575        1005     6.2    24.5     77.6    46.6   \n",
       "3     36.0             22427        1007     6.5    20.2     75.8    57.6   \n",
       "4     89.9             57997        1009     6.7    19.8     74.8    57.1   \n",
       "\n",
       "   bpmed  cholscreen  mammouse  cervical  colon_screen  corem  corew  \n",
       "0   61.8        87.0      77.5      86.4          69.5   28.1   26.5  \n",
       "1   58.6        87.0      74.0      87.3          67.5   29.0   28.7  \n",
       "2   65.9        85.5      75.9      84.1          62.1   21.8   22.9  \n",
       "3   63.6        85.4      73.3      84.8          65.7   24.7   24.8  \n",
       "4   61.0        85.2      71.5      84.1          63.9   25.4   24.8  "
      ]
     },
     "execution_count": 60,
     "metadata": {},
     "output_type": "execute_result"
    }
   ],
   "source": [
    "cancer_p_df = pd.read_csv('data/cancer_prevention_merged.csv')\n",
    "cancer_p_df.head()"
   ]
  },
  {
   "cell_type": "code",
   "execution_count": 61,
   "metadata": {},
   "outputs": [
    {
     "data": {
      "text/plain": [
       "0    3089\n",
       "1      32\n",
       "Name: cancer_risk, dtype: int64"
      ]
     },
     "execution_count": 61,
     "metadata": {},
     "output_type": "execute_result"
    }
   ],
   "source": [
    "#create loop to iterate through cancer_p_df and classify any cancner rate 1 standard deviation above the mean as '1', and anything else 0\n",
    "cancer_risk = []\n",
    "for risk in cancer_p_df['cancer']:\n",
    "    if risk <= 6.96:\n",
    "        cancer_risk.append(\"0\")\n",
    "    if risk > 6.96:\n",
    "        cancer_risk.append(\"1\")\n",
    "\n",
    "cancer_p_df['cancer_risk'] = cancer_risk\n",
    "cancer_p_df['cancer_risk'].value_counts()"
   ]
  },
  {
   "cell_type": "code",
   "execution_count": 62,
   "metadata": {},
   "outputs": [],
   "source": [
    "cancer_p_df = cancer_p_df.drop(['cancer', 'countyfips', 'density', 'total_population',], axis = 1)"
   ]
  },
  {
   "cell_type": "code",
   "execution_count": 63,
   "metadata": {},
   "outputs": [],
   "source": [
    "X = cancer_p_df.drop('cancer_risk', axis=1)\n",
    "y = cancer_p_df['cancer_risk'] "
   ]
  },
  {
   "cell_type": "code",
   "execution_count": 64,
   "metadata": {},
   "outputs": [],
   "source": [
    "data_scaler = StandardScaler()"
   ]
  },
  {
   "cell_type": "code",
   "execution_count": 65,
   "metadata": {},
   "outputs": [
    {
     "data": {
      "text/plain": [
       "array([[-0.34710425,  0.76142327,  0.52275462,  1.03720275,  1.37466056,\n",
       "         1.67990085,  1.31616155,  1.59513793,  1.24186116,  1.18052392,\n",
       "        -0.10178084],\n",
       "       [-0.55182838, -0.17430747,  0.82639339,  0.2174024 ,  1.37466056,\n",
       "         0.81111552,  1.78465975,  1.17478707,  1.48067701,  1.81636089,\n",
       "        -0.10178084],\n",
       "       [ 0.89586369,  0.91316339, -1.77433874,  2.08757196,  0.78580064,\n",
       "         1.28274184,  0.11888836,  0.03983973, -0.42984984,  0.14006342,\n",
       "        -0.10178084]])"
      ]
     },
     "execution_count": 65,
     "metadata": {},
     "output_type": "execute_result"
    }
   ],
   "source": [
    "# Fitting the scaler\n",
    "cancer_data_scaled = data_scaler.fit_transform(cancer_p_df)\n",
    "cancer_data_scaled[:3]"
   ]
  },
  {
   "cell_type": "code",
   "execution_count": 66,
   "metadata": {},
   "outputs": [],
   "source": [
    "# Normal train-test split\n",
    "X_train, X_test, y_train, y_test = train_test_split(X, y, random_state=1)"
   ]
  },
  {
   "cell_type": "code",
   "execution_count": 68,
   "metadata": {},
   "outputs": [
    {
     "data": {
      "text/plain": [
       "Counter({'0': 2970, '1': 3086})"
      ]
     },
     "execution_count": 68,
     "metadata": {},
     "output_type": "execute_result"
    }
   ],
   "source": [
    "# Use the SMOTEENN technique to perform combination sampling on the data\n",
    "# Count the resampled classes\n",
    "# implement random oversampling\n",
    "\n",
    "smote_enn = SMOTEENN(random_state=0)\n",
    "X_resampled, y_resampled = smote_enn.fit_resample(X, y)\n",
    "Counter(y_resampled)"
   ]
  },
  {
   "cell_type": "code",
   "execution_count": 69,
   "metadata": {},
   "outputs": [
    {
     "name": "stderr",
     "output_type": "stream",
     "text": [
      "/Users/halesoyster/opt/anaconda3/envs/mlenv/lib/python3.7/site-packages/sklearn/linear_model/_logistic.py:818: ConvergenceWarning: lbfgs failed to converge (status=1):\n",
      "STOP: TOTAL NO. of ITERATIONS REACHED LIMIT.\n",
      "\n",
      "Increase the number of iterations (max_iter) or scale the data as shown in:\n",
      "    https://scikit-learn.org/stable/modules/preprocessing.html\n",
      "Please also refer to the documentation for alternative solver options:\n",
      "    https://scikit-learn.org/stable/modules/linear_model.html#logistic-regression\n",
      "  extra_warning_msg=_LOGISTIC_SOLVER_CONVERGENCE_MSG,\n"
     ]
    },
    {
     "data": {
      "text/plain": [
       "LogisticRegression(random_state=1)"
      ]
     },
     "execution_count": 69,
     "metadata": {},
     "output_type": "execute_result"
    }
   ],
   "source": [
    "# Fit a Logistic regression model using random undersampled data\n",
    "model = LogisticRegression(solver='lbfgs', random_state=1)\n",
    "model.fit(X_resampled, y_resampled)"
   ]
  },
  {
   "cell_type": "code",
   "execution_count": 70,
   "metadata": {},
   "outputs": [
    {
     "data": {
      "text/plain": [
       "array([[669, 104],\n",
       "       [  1,   7]])"
      ]
     },
     "execution_count": 70,
     "metadata": {},
     "output_type": "execute_result"
    }
   ],
   "source": [
    "# Display the confusion matrix\n",
    "y_pred = model.predict(X_test)\n",
    "confusion_matrix(y_test, y_pred)"
   ]
  },
  {
   "cell_type": "code",
   "execution_count": 71,
   "metadata": {},
   "outputs": [
    {
     "data": {
      "text/plain": [
       "0.8702296248382924"
      ]
     },
     "execution_count": 71,
     "metadata": {},
     "output_type": "execute_result"
    }
   ],
   "source": [
    "balanced_accuracy_score(y_test, y_pred)"
   ]
  },
  {
   "cell_type": "code",
   "execution_count": 72,
   "metadata": {},
   "outputs": [
    {
     "name": "stdout",
     "output_type": "stream",
     "text": [
      "                   pre       rec       spe        f1       geo       iba       sup\n",
      "\n",
      "          0       1.00      0.87      0.88      0.93      0.87      0.76       773\n",
      "          1       0.06      0.88      0.87      0.12      0.87      0.76         8\n",
      "\n",
      "avg / total       0.99      0.87      0.87      0.92      0.87      0.76       781\n",
      "\n"
     ]
    }
   ],
   "source": [
    "# Print the imbalanced classification report\n",
    "print(classification_report_imbalanced(y_test, y_pred))"
   ]
  },
  {
   "cell_type": "markdown",
   "metadata": {},
   "source": [
    "# Plotting"
   ]
  },
  {
   "cell_type": "markdown",
   "metadata": {},
   "source": [
    "from https://machinelearningmastery.com/calculate-feature-importance-with-python/"
   ]
  },
  {
   "cell_type": "code",
   "execution_count": 34,
   "metadata": {},
   "outputs": [],
   "source": [
    "# from matplotlib import pyplot\n",
    "# importance = model.coef_[0]\n",
    "# # summarize feature importance\n",
    "# for i,v in enumerate(importance):\n",
    "#     print('Feature: %0d, Score: %.5f' % (i,v))\n",
    "# # plot\n",
    "# pyplot.bar([x for x in range(len(importance))], importance)\n",
    "# pyplot.show()\n"
   ]
  },
  {
   "cell_type": "markdown",
   "metadata": {},
   "source": [
    "This is a classification problem with classes 0 and 1. Notice that the coefficients are both positive and negative. The positive scores indicate a feature that predicts class 1, whereas the negative scores indicate a feature that predicts class 0.\n",
    "\n",
    "0-4 features seem to very important, while 5-9 are less so.  \n",
    "\n",
    "work on creating titles for features (coeffeicients) to match column names"
   ]
  },
  {
   "cell_type": "markdown",
   "metadata": {},
   "source": [
    "# Use numpy to show impact of each element"
   ]
  },
  {
   "cell_type": "markdown",
   "metadata": {},
   "source": [
    "from https://inria.github.io/scikit-learn-mooc/python_scripts/dev_features_importance.html"
   ]
  },
  {
   "cell_type": "code",
   "execution_count": 73,
   "metadata": {},
   "outputs": [],
   "source": [
    "import numpy as np\n",
    "def get_score_after_permutation(model, X, y, curr_feat):\n",
    "     \"\"\" return the score of model when curr_feat is permuted \"\"\"\n",
    "\n",
    "     X_permuted = X.copy()\n",
    "     col_idx = list(X.columns).index(curr_feat)\n",
    "     # permute one column\n",
    "     X_permuted.iloc[:, col_idx] = np.random.permutation(\n",
    "         X_permuted[curr_feat].values)\n",
    "\n",
    "     permuted_score = model.score(X_permuted, y)\n",
    "     return permuted_score\n",
    "\n",
    "\n",
    "def get_feature_importance(model, X, y, curr_feat):\n",
    "     \"\"\" compare the score when curr_feat is permuted \"\"\"\n",
    "\n",
    "     baseline_score_train = model.score(X, y)\n",
    "     permuted_score_train = get_score_after_permutation(model, X, y, curr_feat)\n",
    "\n",
    "     # feature importance is the difference between the two scores\n",
    "     feature_importance = baseline_score_train - permuted_score_train\n",
    "     return feature_importance\n",
    "\n",
    "\n",
    "curr_feat = 'access'\n",
    "\n",
    "feature_importance = get_feature_importance(model, X_train, y_train, curr_feat)\n",
    "# print(f'feature importance of \"{curr_feat}\" on train set is '\n",
    "#       f'{feature_importance:.3}')"
   ]
  },
  {
   "cell_type": "markdown",
   "metadata": {},
   "source": [
    "Since there is some randomness, it is advisable to run it multiple times and inspect the mean and the standard deviation of the feature importance."
   ]
  },
  {
   "cell_type": "code",
   "execution_count": 75,
   "metadata": {},
   "outputs": [],
   "source": [
    "# n_repeats = 10\n",
    "\n",
    "# list_feature_importance = []\n",
    "# for n_round in range(n_repeats):\n",
    "#     list_feature_importance.append(\n",
    "#         get_feature_importance(model, X_train, y_train, curr_feat))\n",
    "\n",
    "# print(\n",
    "#     f'feature importance of \"{curr_feat}\" on train set is '\n",
    "#     f'{np.mean(list_feature_importance):.3} '\n",
    "#     f'± {np.std(list_feature_importance):.3}')"
   ]
  },
  {
   "cell_type": "code",
   "execution_count": 76,
   "metadata": {},
   "outputs": [],
   "source": [
    "def permutation_importance(model, X, y, n_repeats=10):\n",
    "    \"\"\"Calculate importance score for each feature.\"\"\"\n",
    "\n",
    "    importances = []\n",
    "    for curr_feat in X.columns:\n",
    "        list_feature_importance = []\n",
    "        for n_round in range(n_repeats):\n",
    "            list_feature_importance.append(\n",
    "                get_feature_importance(model, X, y, curr_feat))\n",
    "\n",
    "        importances.append(list_feature_importance)\n",
    "\n",
    "    return {'importances_mean': np.mean(importances, axis=1),\n",
    "            'importances_std': np.std(importances, axis=1),\n",
    "            'importances': importances}"
   ]
  },
  {
   "cell_type": "code",
   "execution_count": 77,
   "metadata": {},
   "outputs": [],
   "source": [
    "def plot_feature_importances(perm_importance_result, feat_name):\n",
    "    \"\"\" bar plot the feature importance \"\"\"\n",
    "\n",
    "    fig, ax = plt.subplots()\n",
    "\n",
    "    indices = perm_importance_result['importances_mean'].argsort()\n",
    "    plt.barh(range(len(indices)),\n",
    "             perm_importance_result['importances_mean'][indices],\n",
    "             xerr=perm_importance_result['importances_std'][indices])\n",
    "\n",
    "    ax.set_yticks(range(len(indices)))\n",
    "    _ = ax.set_yticklabels(feat_name[indices])"
   ]
  },
  {
   "cell_type": "code",
   "execution_count": 78,
   "metadata": {},
   "outputs": [
    {
     "data": {
      "image/png": "[encoded data removed]",
      "text/plain": [
       "<Figure size 432x288 with 1 Axes>"
      ]
     },
     "metadata": {
      "needs_background": "light"
     },
     "output_type": "display_data"
    }
   ],
   "source": [
    "perm_importance_result_train = permutation_importance(\n",
    "    model, X_train, y_train, n_repeats=10)\n",
    "\n",
    "plot_feature_importances(perm_importance_result_train, X_train.columns)"
   ]
  }
 ],
 "metadata": {
  "kernelspec": {
   "display_name": "Python 3.7.13 ('mlenv')",
   "language": "python",
   "name": "python3"
  },
  "language_info": {
   "codemirror_mode": {
    "name": "ipython",
    "version": 3
   },
   "file_extension": ".py",
   "mimetype": "text/x-python",
   "name": "python",
   "nbconvert_exporter": "python",
   "pygments_lexer": "ipython3",
   "version": "3.7.13"
  },
  "orig_nbformat": 4,
  "vscode": {
   "interpreter": {
    "hash": "b722b825d19ccb30d210a51970eae2d4e620c5ee188ffcb30c622cf3651342b7"
   }
  }
 },
 "nbformat": 4,
 "nbformat_minor": 2
}
