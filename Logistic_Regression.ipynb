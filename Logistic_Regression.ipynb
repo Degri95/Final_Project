{
 "cells": [
  {
   "cell_type": "code",
   "execution_count": 1,
   "id": "97eaecff",
   "metadata": {},
   "outputs": [],
   "source": [
    "# Import dependencies\n",
    "import pandas as pd\n",
    "import numpy as np\n",
    "import matplotlib.pyplot as plt\n",
    "import getpass\n",
    "from collections import Counter\n",
    "from sqlalchemy import create_engine\n",
    "\n",
    "# Preprocessing\n",
    "# from sklearn.preprocessing import StandardScaler\n",
    "from sklearn.model_selection import train_test_split\n",
    "\n",
    "# ML Models\n",
    "from sklearn.linear_model import LogisticRegression\n",
    "from imblearn.ensemble import BalancedRandomForestClassifier\n",
    "from imblearn.ensemble import EasyEnsembleClassifier\n",
    "\n",
    "# Metrics\n",
    "from sklearn.metrics import balanced_accuracy_score\n",
    "from sklearn.metrics import confusion_matrix\n",
    "from imblearn.metrics import classification_report_imbalanced\n",
    "\n",
    "# Sampling\n",
    "from imblearn.over_sampling import SMOTE\n",
    "from imblearn.combine import SMOTEENN\n",
    "from imblearn.under_sampling import ClusterCentroids"
   ]
  },
  {
   "cell_type": "code",
   "execution_count": 2,
   "id": "8d1c8514",
   "metadata": {},
   "outputs": [
    {
     "name": "stdout",
     "output_type": "stream",
     "text": [
      "········\n"
     ]
    }
   ],
   "source": [
    "# Enter password for connection string\n",
    "password = getpass.getpass()"
   ]
  },
  {
   "cell_type": "code",
   "execution_count": 3,
   "id": "d3e3d0a8",
   "metadata": {},
   "outputs": [],
   "source": [
    "# Create connection string\n",
    "conn_string = \"postgresql://postgres:\" + password + \"@b-team-final-project.cct7ahzel1ur.us-west-2.rds.amazonaws.com:5432/B_Team_Final_Project\""
   ]
  },
  {
   "cell_type": "code",
   "execution_count": 4,
   "id": "302f732b",
   "metadata": {},
   "outputs": [],
   "source": [
    "# Create the connection\n",
    "conn=create_engine(conn_string)"
   ]
  },
  {
   "cell_type": "code",
   "execution_count": 5,
   "id": "56aa2ebc",
   "metadata": {},
   "outputs": [
    {
     "data": {
      "text/html": [
       "<div>\n",
       "<style scoped>\n",
       "    .dataframe tbody tr th:only-of-type {\n",
       "        vertical-align: middle;\n",
       "    }\n",
       "\n",
       "    .dataframe tbody tr th {\n",
       "        vertical-align: top;\n",
       "    }\n",
       "\n",
       "    .dataframe thead th {\n",
       "        text-align: right;\n",
       "    }\n",
       "</style>\n",
       "<table border=\"1\" class=\"dataframe\">\n",
       "  <thead>\n",
       "    <tr style=\"text-align: right;\">\n",
       "      <th></th>\n",
       "      <th>arthritis</th>\n",
       "      <th>casthma</th>\n",
       "      <th>bphigh</th>\n",
       "      <th>cancer</th>\n",
       "      <th>highchol</th>\n",
       "      <th>kidney</th>\n",
       "      <th>copd</th>\n",
       "      <th>chd</th>\n",
       "      <th>depression</th>\n",
       "      <th>diabetes</th>\n",
       "      <th>obesity</th>\n",
       "      <th>teethlost</th>\n",
       "      <th>stroke</th>\n",
       "    </tr>\n",
       "  </thead>\n",
       "  <tbody>\n",
       "    <tr>\n",
       "      <th>0</th>\n",
       "      <td>23.0</td>\n",
       "      <td>9.7</td>\n",
       "      <td>34.1</td>\n",
       "      <td>6.1</td>\n",
       "      <td>31.3</td>\n",
       "      <td>3.1</td>\n",
       "      <td>7.1</td>\n",
       "      <td>6.3</td>\n",
       "      <td>21.2</td>\n",
       "      <td>11.8</td>\n",
       "      <td>36.3</td>\n",
       "      <td>18.8</td>\n",
       "      <td>3.3</td>\n",
       "    </tr>\n",
       "    <tr>\n",
       "      <th>1</th>\n",
       "      <td>25.6</td>\n",
       "      <td>9.5</td>\n",
       "      <td>33.3</td>\n",
       "      <td>6.5</td>\n",
       "      <td>29.3</td>\n",
       "      <td>2.9</td>\n",
       "      <td>8.0</td>\n",
       "      <td>6.4</td>\n",
       "      <td>21.2</td>\n",
       "      <td>10.7</td>\n",
       "      <td>38.8</td>\n",
       "      <td>17.2</td>\n",
       "      <td>3.4</td>\n",
       "    </tr>\n",
       "    <tr>\n",
       "      <th>2</th>\n",
       "      <td>23.7</td>\n",
       "      <td>9.7</td>\n",
       "      <td>32.9</td>\n",
       "      <td>6.4</td>\n",
       "      <td>30.4</td>\n",
       "      <td>2.9</td>\n",
       "      <td>6.7</td>\n",
       "      <td>5.8</td>\n",
       "      <td>19.0</td>\n",
       "      <td>11.0</td>\n",
       "      <td>37.0</td>\n",
       "      <td>17.2</td>\n",
       "      <td>3.1</td>\n",
       "    </tr>\n",
       "    <tr>\n",
       "      <th>3</th>\n",
       "      <td>20.0</td>\n",
       "      <td>9.2</td>\n",
       "      <td>29.8</td>\n",
       "      <td>6.0</td>\n",
       "      <td>27.8</td>\n",
       "      <td>2.5</td>\n",
       "      <td>5.0</td>\n",
       "      <td>4.8</td>\n",
       "      <td>17.0</td>\n",
       "      <td>8.3</td>\n",
       "      <td>30.7</td>\n",
       "      <td>12.2</td>\n",
       "      <td>2.7</td>\n",
       "    </tr>\n",
       "    <tr>\n",
       "      <th>4</th>\n",
       "      <td>25.7</td>\n",
       "      <td>10.5</td>\n",
       "      <td>36.0</td>\n",
       "      <td>6.6</td>\n",
       "      <td>30.0</td>\n",
       "      <td>3.0</td>\n",
       "      <td>8.4</td>\n",
       "      <td>6.8</td>\n",
       "      <td>23.9</td>\n",
       "      <td>10.5</td>\n",
       "      <td>36.5</td>\n",
       "      <td>20.6</td>\n",
       "      <td>3.5</td>\n",
       "    </tr>\n",
       "    <tr>\n",
       "      <th>...</th>\n",
       "      <td>...</td>\n",
       "      <td>...</td>\n",
       "      <td>...</td>\n",
       "      <td>...</td>\n",
       "      <td>...</td>\n",
       "      <td>...</td>\n",
       "      <td>...</td>\n",
       "      <td>...</td>\n",
       "      <td>...</td>\n",
       "      <td>...</td>\n",
       "      <td>...</td>\n",
       "      <td>...</td>\n",
       "      <td>...</td>\n",
       "    </tr>\n",
       "    <tr>\n",
       "      <th>3116</th>\n",
       "      <td>34.1</td>\n",
       "      <td>11.0</td>\n",
       "      <td>41.0</td>\n",
       "      <td>7.0</td>\n",
       "      <td>33.6</td>\n",
       "      <td>3.3</td>\n",
       "      <td>11.8</td>\n",
       "      <td>8.3</td>\n",
       "      <td>28.4</td>\n",
       "      <td>13.1</td>\n",
       "      <td>42.1</td>\n",
       "      <td>27.7</td>\n",
       "      <td>4.2</td>\n",
       "    </tr>\n",
       "    <tr>\n",
       "      <th>3117</th>\n",
       "      <td>24.6</td>\n",
       "      <td>9.3</td>\n",
       "      <td>36.4</td>\n",
       "      <td>6.4</td>\n",
       "      <td>32.5</td>\n",
       "      <td>2.6</td>\n",
       "      <td>5.9</td>\n",
       "      <td>5.3</td>\n",
       "      <td>21.6</td>\n",
       "      <td>10.6</td>\n",
       "      <td>37.8</td>\n",
       "      <td>14.2</td>\n",
       "      <td>3.1</td>\n",
       "    </tr>\n",
       "    <tr>\n",
       "      <th>3118</th>\n",
       "      <td>19.4</td>\n",
       "      <td>9.6</td>\n",
       "      <td>27.0</td>\n",
       "      <td>6.1</td>\n",
       "      <td>27.1</td>\n",
       "      <td>2.5</td>\n",
       "      <td>5.7</td>\n",
       "      <td>5.1</td>\n",
       "      <td>15.8</td>\n",
       "      <td>9.8</td>\n",
       "      <td>29.8</td>\n",
       "      <td>15.3</td>\n",
       "      <td>2.7</td>\n",
       "    </tr>\n",
       "    <tr>\n",
       "      <th>3119</th>\n",
       "      <td>22.9</td>\n",
       "      <td>9.4</td>\n",
       "      <td>29.6</td>\n",
       "      <td>6.3</td>\n",
       "      <td>28.2</td>\n",
       "      <td>2.6</td>\n",
       "      <td>5.8</td>\n",
       "      <td>5.2</td>\n",
       "      <td>19.7</td>\n",
       "      <td>9.7</td>\n",
       "      <td>35.7</td>\n",
       "      <td>14.1</td>\n",
       "      <td>2.8</td>\n",
       "    </tr>\n",
       "    <tr>\n",
       "      <th>3120</th>\n",
       "      <td>22.7</td>\n",
       "      <td>8.6</td>\n",
       "      <td>32.3</td>\n",
       "      <td>6.3</td>\n",
       "      <td>31.9</td>\n",
       "      <td>2.8</td>\n",
       "      <td>6.7</td>\n",
       "      <td>5.8</td>\n",
       "      <td>21.2</td>\n",
       "      <td>10.7</td>\n",
       "      <td>36.7</td>\n",
       "      <td>15.7</td>\n",
       "      <td>3.1</td>\n",
       "    </tr>\n",
       "  </tbody>\n",
       "</table>\n",
       "<p>3121 rows × 13 columns</p>\n",
       "</div>"
      ],
      "text/plain": [
       "      arthritis  casthma  bphigh  cancer  highchol  kidney  copd  chd  \\\n",
       "0          23.0      9.7    34.1     6.1      31.3     3.1   7.1  6.3   \n",
       "1          25.6      9.5    33.3     6.5      29.3     2.9   8.0  6.4   \n",
       "2          23.7      9.7    32.9     6.4      30.4     2.9   6.7  5.8   \n",
       "3          20.0      9.2    29.8     6.0      27.8     2.5   5.0  4.8   \n",
       "4          25.7     10.5    36.0     6.6      30.0     3.0   8.4  6.8   \n",
       "...         ...      ...     ...     ...       ...     ...   ...  ...   \n",
       "3116       34.1     11.0    41.0     7.0      33.6     3.3  11.8  8.3   \n",
       "3117       24.6      9.3    36.4     6.4      32.5     2.6   5.9  5.3   \n",
       "3118       19.4      9.6    27.0     6.1      27.1     2.5   5.7  5.1   \n",
       "3119       22.9      9.4    29.6     6.3      28.2     2.6   5.8  5.2   \n",
       "3120       22.7      8.6    32.3     6.3      31.9     2.8   6.7  5.8   \n",
       "\n",
       "      depression  diabetes  obesity  teethlost  stroke  \n",
       "0           21.2      11.8     36.3       18.8     3.3  \n",
       "1           21.2      10.7     38.8       17.2     3.4  \n",
       "2           19.0      11.0     37.0       17.2     3.1  \n",
       "3           17.0       8.3     30.7       12.2     2.7  \n",
       "4           23.9      10.5     36.5       20.6     3.5  \n",
       "...          ...       ...      ...        ...     ...  \n",
       "3116        28.4      13.1     42.1       27.7     4.2  \n",
       "3117        21.6      10.6     37.8       14.2     3.1  \n",
       "3118        15.8       9.8     29.8       15.3     2.7  \n",
       "3119        19.7       9.7     35.7       14.1     2.8  \n",
       "3120        21.2      10.7     36.7       15.7     3.1  \n",
       "\n",
       "[3121 rows x 13 columns]"
      ]
     },
     "execution_count": 5,
     "metadata": {},
     "output_type": "execute_result"
    }
   ],
   "source": [
    "# Import health_outcomes table and drop \"countyfips\"\n",
    "health_outcomes = pd.read_sql(\n",
    "    'health_outcomes',\n",
    "    conn\n",
    ")\n",
    "health_outcomes = health_outcomes.apply(pd.to_numeric)\n",
    "health_outcomes = health_outcomes.drop(\"countyfips\", axis=1)\n",
    "health_outcomes"
   ]
  },
  {
   "cell_type": "code",
   "execution_count": 6,
   "id": "96f0be2b",
   "metadata": {},
   "outputs": [
    {
     "data": {
      "text/html": [
       "<div>\n",
       "<style scoped>\n",
       "    .dataframe tbody tr th:only-of-type {\n",
       "        vertical-align: middle;\n",
       "    }\n",
       "\n",
       "    .dataframe tbody tr th {\n",
       "        vertical-align: top;\n",
       "    }\n",
       "\n",
       "    .dataframe thead th {\n",
       "        text-align: right;\n",
       "    }\n",
       "</style>\n",
       "<table border=\"1\" class=\"dataframe\">\n",
       "  <thead>\n",
       "    <tr style=\"text-align: right;\">\n",
       "      <th></th>\n",
       "      <th>binge</th>\n",
       "      <th>csmoking</th>\n",
       "      <th>lpa</th>\n",
       "      <th>sleep</th>\n",
       "    </tr>\n",
       "  </thead>\n",
       "  <tbody>\n",
       "    <tr>\n",
       "      <th>0</th>\n",
       "      <td>13.6</td>\n",
       "      <td>17.4</td>\n",
       "      <td>38.5</td>\n",
       "      <td>37.7</td>\n",
       "    </tr>\n",
       "    <tr>\n",
       "      <th>1</th>\n",
       "      <td>21.5</td>\n",
       "      <td>21.7</td>\n",
       "      <td>30.3</td>\n",
       "      <td>36.8</td>\n",
       "    </tr>\n",
       "    <tr>\n",
       "      <th>2</th>\n",
       "      <td>17.1</td>\n",
       "      <td>18.7</td>\n",
       "      <td>32.1</td>\n",
       "      <td>34.2</td>\n",
       "    </tr>\n",
       "    <tr>\n",
       "      <th>3</th>\n",
       "      <td>18.2</td>\n",
       "      <td>15.3</td>\n",
       "      <td>20.5</td>\n",
       "      <td>34.4</td>\n",
       "    </tr>\n",
       "    <tr>\n",
       "      <th>4</th>\n",
       "      <td>13.5</td>\n",
       "      <td>21.8</td>\n",
       "      <td>39.1</td>\n",
       "      <td>37.3</td>\n",
       "    </tr>\n",
       "    <tr>\n",
       "      <th>...</th>\n",
       "      <td>...</td>\n",
       "      <td>...</td>\n",
       "      <td>...</td>\n",
       "      <td>...</td>\n",
       "    </tr>\n",
       "    <tr>\n",
       "      <th>3116</th>\n",
       "      <td>14.6</td>\n",
       "      <td>28.9</td>\n",
       "      <td>40.9</td>\n",
       "      <td>44.7</td>\n",
       "    </tr>\n",
       "    <tr>\n",
       "      <th>3117</th>\n",
       "      <td>15.6</td>\n",
       "      <td>17.3</td>\n",
       "      <td>32.3</td>\n",
       "      <td>36.9</td>\n",
       "    </tr>\n",
       "    <tr>\n",
       "      <th>3118</th>\n",
       "      <td>16.7</td>\n",
       "      <td>15.5</td>\n",
       "      <td>30.4</td>\n",
       "      <td>43.6</td>\n",
       "    </tr>\n",
       "    <tr>\n",
       "      <th>3119</th>\n",
       "      <td>17.9</td>\n",
       "      <td>17.4</td>\n",
       "      <td>29.7</td>\n",
       "      <td>32.5</td>\n",
       "    </tr>\n",
       "    <tr>\n",
       "      <th>3120</th>\n",
       "      <td>19.0</td>\n",
       "      <td>18.3</td>\n",
       "      <td>30.3</td>\n",
       "      <td>35.6</td>\n",
       "    </tr>\n",
       "  </tbody>\n",
       "</table>\n",
       "<p>3121 rows × 4 columns</p>\n",
       "</div>"
      ],
      "text/plain": [
       "      binge  csmoking   lpa  sleep\n",
       "0      13.6      17.4  38.5   37.7\n",
       "1      21.5      21.7  30.3   36.8\n",
       "2      17.1      18.7  32.1   34.2\n",
       "3      18.2      15.3  20.5   34.4\n",
       "4      13.5      21.8  39.1   37.3\n",
       "...     ...       ...   ...    ...\n",
       "3116   14.6      28.9  40.9   44.7\n",
       "3117   15.6      17.3  32.3   36.9\n",
       "3118   16.7      15.5  30.4   43.6\n",
       "3119   17.9      17.4  29.7   32.5\n",
       "3120   19.0      18.3  30.3   35.6\n",
       "\n",
       "[3121 rows x 4 columns]"
      ]
     },
     "execution_count": 6,
     "metadata": {},
     "output_type": "execute_result"
    }
   ],
   "source": [
    "# Import health_risk_behaviors table and drop \"countyfips\"\n",
    "risk_df = pd.read_sql(\n",
    "    'health_risk_behaviors',\n",
    "    conn\n",
    ")\n",
    "risk_df = risk_df.apply(pd.to_numeric)\n",
    "risk_df = risk_df.drop(\"countyfips\", axis=1)\n",
    "risk_df\n"
   ]
  },
  {
   "cell_type": "code",
   "execution_count": 7,
   "id": "d03ad42f",
   "metadata": {},
   "outputs": [
    {
     "data": {
      "text/html": [
       "<div>\n",
       "<style scoped>\n",
       "    .dataframe tbody tr th:only-of-type {\n",
       "        vertical-align: middle;\n",
       "    }\n",
       "\n",
       "    .dataframe tbody tr th {\n",
       "        vertical-align: top;\n",
       "    }\n",
       "\n",
       "    .dataframe thead th {\n",
       "        text-align: right;\n",
       "    }\n",
       "</style>\n",
       "<table border=\"1\" class=\"dataframe\">\n",
       "  <thead>\n",
       "    <tr style=\"text-align: right;\">\n",
       "      <th></th>\n",
       "      <th>access</th>\n",
       "      <th>checkup</th>\n",
       "      <th>dental</th>\n",
       "      <th>bpmed</th>\n",
       "      <th>cholscreen</th>\n",
       "      <th>mammouse</th>\n",
       "      <th>cervical</th>\n",
       "      <th>colon_screen</th>\n",
       "      <th>corem</th>\n",
       "      <th>corew</th>\n",
       "    </tr>\n",
       "  </thead>\n",
       "  <tbody>\n",
       "    <tr>\n",
       "      <th>0</th>\n",
       "      <td>24.2</td>\n",
       "      <td>74.1</td>\n",
       "      <td>61.1</td>\n",
       "      <td>57.9</td>\n",
       "      <td>83.8</td>\n",
       "      <td>71.5</td>\n",
       "      <td>83.0</td>\n",
       "      <td>58.7</td>\n",
       "      <td>25.2</td>\n",
       "      <td>23.7</td>\n",
       "    </tr>\n",
       "    <tr>\n",
       "      <th>1</th>\n",
       "      <td>18.9</td>\n",
       "      <td>73.4</td>\n",
       "      <td>57.8</td>\n",
       "      <td>56.8</td>\n",
       "      <td>83.0</td>\n",
       "      <td>68.7</td>\n",
       "      <td>82.2</td>\n",
       "      <td>61.2</td>\n",
       "      <td>24.7</td>\n",
       "      <td>20.6</td>\n",
       "    </tr>\n",
       "    <tr>\n",
       "      <th>2</th>\n",
       "      <td>20.5</td>\n",
       "      <td>72.6</td>\n",
       "      <td>59.3</td>\n",
       "      <td>56.8</td>\n",
       "      <td>82.1</td>\n",
       "      <td>69.0</td>\n",
       "      <td>82.6</td>\n",
       "      <td>58.4</td>\n",
       "      <td>24.4</td>\n",
       "      <td>22.3</td>\n",
       "    </tr>\n",
       "    <tr>\n",
       "      <th>3</th>\n",
       "      <td>13.6</td>\n",
       "      <td>68.8</td>\n",
       "      <td>68.5</td>\n",
       "      <td>48.5</td>\n",
       "      <td>81.2</td>\n",
       "      <td>67.4</td>\n",
       "      <td>84.1</td>\n",
       "      <td>58.4</td>\n",
       "      <td>20.8</td>\n",
       "      <td>25.1</td>\n",
       "    </tr>\n",
       "    <tr>\n",
       "      <th>4</th>\n",
       "      <td>20.5</td>\n",
       "      <td>74.5</td>\n",
       "      <td>58.3</td>\n",
       "      <td>57.7</td>\n",
       "      <td>82.8</td>\n",
       "      <td>69.6</td>\n",
       "      <td>82.3</td>\n",
       "      <td>54.6</td>\n",
       "      <td>25.5</td>\n",
       "      <td>27.2</td>\n",
       "    </tr>\n",
       "    <tr>\n",
       "      <th>...</th>\n",
       "      <td>...</td>\n",
       "      <td>...</td>\n",
       "      <td>...</td>\n",
       "      <td>...</td>\n",
       "      <td>...</td>\n",
       "      <td>...</td>\n",
       "      <td>...</td>\n",
       "      <td>...</td>\n",
       "      <td>...</td>\n",
       "      <td>...</td>\n",
       "    </tr>\n",
       "    <tr>\n",
       "      <th>3116</th>\n",
       "      <td>13.1</td>\n",
       "      <td>79.6</td>\n",
       "      <td>46.9</td>\n",
       "      <td>63.9</td>\n",
       "      <td>87.3</td>\n",
       "      <td>70.6</td>\n",
       "      <td>82.5</td>\n",
       "      <td>63.3</td>\n",
       "      <td>25.9</td>\n",
       "      <td>23.1</td>\n",
       "    </tr>\n",
       "    <tr>\n",
       "      <th>3117</th>\n",
       "      <td>18.3</td>\n",
       "      <td>78.9</td>\n",
       "      <td>55.8</td>\n",
       "      <td>63.2</td>\n",
       "      <td>86.8</td>\n",
       "      <td>67.3</td>\n",
       "      <td>87.2</td>\n",
       "      <td>63.1</td>\n",
       "      <td>29.0</td>\n",
       "      <td>21.4</td>\n",
       "    </tr>\n",
       "    <tr>\n",
       "      <th>3118</th>\n",
       "      <td>15.0</td>\n",
       "      <td>80.1</td>\n",
       "      <td>67.5</td>\n",
       "      <td>57.7</td>\n",
       "      <td>87.3</td>\n",
       "      <td>76.5</td>\n",
       "      <td>85.5</td>\n",
       "      <td>62.5</td>\n",
       "      <td>17.3</td>\n",
       "      <td>20.2</td>\n",
       "    </tr>\n",
       "    <tr>\n",
       "      <th>3119</th>\n",
       "      <td>18.0</td>\n",
       "      <td>74.3</td>\n",
       "      <td>63.4</td>\n",
       "      <td>56.2</td>\n",
       "      <td>83.2</td>\n",
       "      <td>73.4</td>\n",
       "      <td>84.0</td>\n",
       "      <td>59.5</td>\n",
       "      <td>24.6</td>\n",
       "      <td>26.5</td>\n",
       "    </tr>\n",
       "    <tr>\n",
       "      <th>3120</th>\n",
       "      <td>27.3</td>\n",
       "      <td>71.8</td>\n",
       "      <td>56.5</td>\n",
       "      <td>56.7</td>\n",
       "      <td>82.7</td>\n",
       "      <td>69.2</td>\n",
       "      <td>82.6</td>\n",
       "      <td>61.2</td>\n",
       "      <td>18.9</td>\n",
       "      <td>18.3</td>\n",
       "    </tr>\n",
       "  </tbody>\n",
       "</table>\n",
       "<p>3121 rows × 10 columns</p>\n",
       "</div>"
      ],
      "text/plain": [
       "      access  checkup  dental  bpmed  cholscreen  mammouse  cervical  \\\n",
       "0       24.2     74.1    61.1   57.9        83.8      71.5      83.0   \n",
       "1       18.9     73.4    57.8   56.8        83.0      68.7      82.2   \n",
       "2       20.5     72.6    59.3   56.8        82.1      69.0      82.6   \n",
       "3       13.6     68.8    68.5   48.5        81.2      67.4      84.1   \n",
       "4       20.5     74.5    58.3   57.7        82.8      69.6      82.3   \n",
       "...      ...      ...     ...    ...         ...       ...       ...   \n",
       "3116    13.1     79.6    46.9   63.9        87.3      70.6      82.5   \n",
       "3117    18.3     78.9    55.8   63.2        86.8      67.3      87.2   \n",
       "3118    15.0     80.1    67.5   57.7        87.3      76.5      85.5   \n",
       "3119    18.0     74.3    63.4   56.2        83.2      73.4      84.0   \n",
       "3120    27.3     71.8    56.5   56.7        82.7      69.2      82.6   \n",
       "\n",
       "      colon_screen  corem  corew  \n",
       "0             58.7   25.2   23.7  \n",
       "1             61.2   24.7   20.6  \n",
       "2             58.4   24.4   22.3  \n",
       "3             58.4   20.8   25.1  \n",
       "4             54.6   25.5   27.2  \n",
       "...            ...    ...    ...  \n",
       "3116          63.3   25.9   23.1  \n",
       "3117          63.1   29.0   21.4  \n",
       "3118          62.5   17.3   20.2  \n",
       "3119          59.5   24.6   26.5  \n",
       "3120          61.2   18.9   18.3  \n",
       "\n",
       "[3121 rows x 10 columns]"
      ]
     },
     "execution_count": 7,
     "metadata": {},
     "output_type": "execute_result"
    }
   ],
   "source": [
    "# Import prevention table and drop \"countyfips\"\n",
    "prev_df =  pd.read_sql(\n",
    "    'prevention',\n",
    "    conn\n",
    ")\n",
    "prev_df = prev_df.apply(pd.to_numeric)\n",
    "prev_df = prev_df.drop(\"countyfips\", axis=1)\n",
    "prev_df"
   ]
  },
  {
   "cell_type": "code",
   "execution_count": 8,
   "id": "e235c0f4",
   "metadata": {},
   "outputs": [
    {
     "data": {
      "text/plain": [
       "Counter({'normal_risk': 3089, 'high_risk': 32})"
      ]
     },
     "execution_count": 8,
     "metadata": {},
     "output_type": "execute_result"
    }
   ],
   "source": [
    "# Create a list of high risk cancer counties\n",
    "cancer_risk = []\n",
    "for risk in health_outcomes[\"cancer\"]:\n",
    "    if risk <= 6.96:\n",
    "        cancer_risk.append(\"normal_risk\")\n",
    "    if risk > 6.96:\n",
    "        cancer_risk.append(\"high_risk\")\n",
    "Counter(cancer_risk)"
   ]
  },
  {
   "cell_type": "code",
   "execution_count": 9,
   "id": "3f729cd0",
   "metadata": {},
   "outputs": [
    {
     "data": {
      "text/html": [
       "<div>\n",
       "<style scoped>\n",
       "    .dataframe tbody tr th:only-of-type {\n",
       "        vertical-align: middle;\n",
       "    }\n",
       "\n",
       "    .dataframe tbody tr th {\n",
       "        vertical-align: top;\n",
       "    }\n",
       "\n",
       "    .dataframe thead th {\n",
       "        text-align: right;\n",
       "    }\n",
       "</style>\n",
       "<table border=\"1\" class=\"dataframe\">\n",
       "  <thead>\n",
       "    <tr style=\"text-align: right;\">\n",
       "      <th></th>\n",
       "      <th>arthritis</th>\n",
       "      <th>casthma</th>\n",
       "      <th>bphigh</th>\n",
       "      <th>cancer</th>\n",
       "      <th>highchol</th>\n",
       "      <th>kidney</th>\n",
       "      <th>copd</th>\n",
       "      <th>chd</th>\n",
       "      <th>depression</th>\n",
       "      <th>diabetes</th>\n",
       "      <th>obesity</th>\n",
       "      <th>teethlost</th>\n",
       "      <th>stroke</th>\n",
       "      <th>cancer_risk</th>\n",
       "    </tr>\n",
       "  </thead>\n",
       "  <tbody>\n",
       "    <tr>\n",
       "      <th>0</th>\n",
       "      <td>23.0</td>\n",
       "      <td>9.7</td>\n",
       "      <td>34.1</td>\n",
       "      <td>6.1</td>\n",
       "      <td>31.3</td>\n",
       "      <td>3.1</td>\n",
       "      <td>7.1</td>\n",
       "      <td>6.3</td>\n",
       "      <td>21.2</td>\n",
       "      <td>11.8</td>\n",
       "      <td>36.3</td>\n",
       "      <td>18.8</td>\n",
       "      <td>3.3</td>\n",
       "      <td>normal_risk</td>\n",
       "    </tr>\n",
       "    <tr>\n",
       "      <th>1</th>\n",
       "      <td>25.6</td>\n",
       "      <td>9.5</td>\n",
       "      <td>33.3</td>\n",
       "      <td>6.5</td>\n",
       "      <td>29.3</td>\n",
       "      <td>2.9</td>\n",
       "      <td>8.0</td>\n",
       "      <td>6.4</td>\n",
       "      <td>21.2</td>\n",
       "      <td>10.7</td>\n",
       "      <td>38.8</td>\n",
       "      <td>17.2</td>\n",
       "      <td>3.4</td>\n",
       "      <td>normal_risk</td>\n",
       "    </tr>\n",
       "    <tr>\n",
       "      <th>2</th>\n",
       "      <td>23.7</td>\n",
       "      <td>9.7</td>\n",
       "      <td>32.9</td>\n",
       "      <td>6.4</td>\n",
       "      <td>30.4</td>\n",
       "      <td>2.9</td>\n",
       "      <td>6.7</td>\n",
       "      <td>5.8</td>\n",
       "      <td>19.0</td>\n",
       "      <td>11.0</td>\n",
       "      <td>37.0</td>\n",
       "      <td>17.2</td>\n",
       "      <td>3.1</td>\n",
       "      <td>normal_risk</td>\n",
       "    </tr>\n",
       "    <tr>\n",
       "      <th>3</th>\n",
       "      <td>20.0</td>\n",
       "      <td>9.2</td>\n",
       "      <td>29.8</td>\n",
       "      <td>6.0</td>\n",
       "      <td>27.8</td>\n",
       "      <td>2.5</td>\n",
       "      <td>5.0</td>\n",
       "      <td>4.8</td>\n",
       "      <td>17.0</td>\n",
       "      <td>8.3</td>\n",
       "      <td>30.7</td>\n",
       "      <td>12.2</td>\n",
       "      <td>2.7</td>\n",
       "      <td>normal_risk</td>\n",
       "    </tr>\n",
       "    <tr>\n",
       "      <th>4</th>\n",
       "      <td>25.7</td>\n",
       "      <td>10.5</td>\n",
       "      <td>36.0</td>\n",
       "      <td>6.6</td>\n",
       "      <td>30.0</td>\n",
       "      <td>3.0</td>\n",
       "      <td>8.4</td>\n",
       "      <td>6.8</td>\n",
       "      <td>23.9</td>\n",
       "      <td>10.5</td>\n",
       "      <td>36.5</td>\n",
       "      <td>20.6</td>\n",
       "      <td>3.5</td>\n",
       "      <td>normal_risk</td>\n",
       "    </tr>\n",
       "    <tr>\n",
       "      <th>...</th>\n",
       "      <td>...</td>\n",
       "      <td>...</td>\n",
       "      <td>...</td>\n",
       "      <td>...</td>\n",
       "      <td>...</td>\n",
       "      <td>...</td>\n",
       "      <td>...</td>\n",
       "      <td>...</td>\n",
       "      <td>...</td>\n",
       "      <td>...</td>\n",
       "      <td>...</td>\n",
       "      <td>...</td>\n",
       "      <td>...</td>\n",
       "      <td>...</td>\n",
       "    </tr>\n",
       "    <tr>\n",
       "      <th>3116</th>\n",
       "      <td>34.1</td>\n",
       "      <td>11.0</td>\n",
       "      <td>41.0</td>\n",
       "      <td>7.0</td>\n",
       "      <td>33.6</td>\n",
       "      <td>3.3</td>\n",
       "      <td>11.8</td>\n",
       "      <td>8.3</td>\n",
       "      <td>28.4</td>\n",
       "      <td>13.1</td>\n",
       "      <td>42.1</td>\n",
       "      <td>27.7</td>\n",
       "      <td>4.2</td>\n",
       "      <td>high_risk</td>\n",
       "    </tr>\n",
       "    <tr>\n",
       "      <th>3117</th>\n",
       "      <td>24.6</td>\n",
       "      <td>9.3</td>\n",
       "      <td>36.4</td>\n",
       "      <td>6.4</td>\n",
       "      <td>32.5</td>\n",
       "      <td>2.6</td>\n",
       "      <td>5.9</td>\n",
       "      <td>5.3</td>\n",
       "      <td>21.6</td>\n",
       "      <td>10.6</td>\n",
       "      <td>37.8</td>\n",
       "      <td>14.2</td>\n",
       "      <td>3.1</td>\n",
       "      <td>normal_risk</td>\n",
       "    </tr>\n",
       "    <tr>\n",
       "      <th>3118</th>\n",
       "      <td>19.4</td>\n",
       "      <td>9.6</td>\n",
       "      <td>27.0</td>\n",
       "      <td>6.1</td>\n",
       "      <td>27.1</td>\n",
       "      <td>2.5</td>\n",
       "      <td>5.7</td>\n",
       "      <td>5.1</td>\n",
       "      <td>15.8</td>\n",
       "      <td>9.8</td>\n",
       "      <td>29.8</td>\n",
       "      <td>15.3</td>\n",
       "      <td>2.7</td>\n",
       "      <td>normal_risk</td>\n",
       "    </tr>\n",
       "    <tr>\n",
       "      <th>3119</th>\n",
       "      <td>22.9</td>\n",
       "      <td>9.4</td>\n",
       "      <td>29.6</td>\n",
       "      <td>6.3</td>\n",
       "      <td>28.2</td>\n",
       "      <td>2.6</td>\n",
       "      <td>5.8</td>\n",
       "      <td>5.2</td>\n",
       "      <td>19.7</td>\n",
       "      <td>9.7</td>\n",
       "      <td>35.7</td>\n",
       "      <td>14.1</td>\n",
       "      <td>2.8</td>\n",
       "      <td>normal_risk</td>\n",
       "    </tr>\n",
       "    <tr>\n",
       "      <th>3120</th>\n",
       "      <td>22.7</td>\n",
       "      <td>8.6</td>\n",
       "      <td>32.3</td>\n",
       "      <td>6.3</td>\n",
       "      <td>31.9</td>\n",
       "      <td>2.8</td>\n",
       "      <td>6.7</td>\n",
       "      <td>5.8</td>\n",
       "      <td>21.2</td>\n",
       "      <td>10.7</td>\n",
       "      <td>36.7</td>\n",
       "      <td>15.7</td>\n",
       "      <td>3.1</td>\n",
       "      <td>normal_risk</td>\n",
       "    </tr>\n",
       "  </tbody>\n",
       "</table>\n",
       "<p>3121 rows × 14 columns</p>\n",
       "</div>"
      ],
      "text/plain": [
       "      arthritis  casthma  bphigh  cancer  highchol  kidney  copd  chd  \\\n",
       "0          23.0      9.7    34.1     6.1      31.3     3.1   7.1  6.3   \n",
       "1          25.6      9.5    33.3     6.5      29.3     2.9   8.0  6.4   \n",
       "2          23.7      9.7    32.9     6.4      30.4     2.9   6.7  5.8   \n",
       "3          20.0      9.2    29.8     6.0      27.8     2.5   5.0  4.8   \n",
       "4          25.7     10.5    36.0     6.6      30.0     3.0   8.4  6.8   \n",
       "...         ...      ...     ...     ...       ...     ...   ...  ...   \n",
       "3116       34.1     11.0    41.0     7.0      33.6     3.3  11.8  8.3   \n",
       "3117       24.6      9.3    36.4     6.4      32.5     2.6   5.9  5.3   \n",
       "3118       19.4      9.6    27.0     6.1      27.1     2.5   5.7  5.1   \n",
       "3119       22.9      9.4    29.6     6.3      28.2     2.6   5.8  5.2   \n",
       "3120       22.7      8.6    32.3     6.3      31.9     2.8   6.7  5.8   \n",
       "\n",
       "      depression  diabetes  obesity  teethlost  stroke  cancer_risk  \n",
       "0           21.2      11.8     36.3       18.8     3.3  normal_risk  \n",
       "1           21.2      10.7     38.8       17.2     3.4  normal_risk  \n",
       "2           19.0      11.0     37.0       17.2     3.1  normal_risk  \n",
       "3           17.0       8.3     30.7       12.2     2.7  normal_risk  \n",
       "4           23.9      10.5     36.5       20.6     3.5  normal_risk  \n",
       "...          ...       ...      ...        ...     ...          ...  \n",
       "3116        28.4      13.1     42.1       27.7     4.2    high_risk  \n",
       "3117        21.6      10.6     37.8       14.2     3.1  normal_risk  \n",
       "3118        15.8       9.8     29.8       15.3     2.7  normal_risk  \n",
       "3119        19.7       9.7     35.7       14.1     2.8  normal_risk  \n",
       "3120        21.2      10.7     36.7       15.7     3.1  normal_risk  \n",
       "\n",
       "[3121 rows x 14 columns]"
      ]
     },
     "execution_count": 9,
     "metadata": {},
     "output_type": "execute_result"
    }
   ],
   "source": [
    "# Append the list as a column to health_outcomes\n",
    "health_outcomes[\"cancer_risk\"] = cancer_risk\n",
    "health_outcomes"
   ]
  },
  {
   "cell_type": "code",
   "execution_count": 10,
   "id": "0a575266",
   "metadata": {},
   "outputs": [],
   "source": [
    "# Define X and y\n",
    "X = prev_df.values\n",
    "y = health_outcomes[\"cancer_risk\"].values.reshape(-1,1)"
   ]
  },
  {
   "cell_type": "code",
   "execution_count": 11,
   "id": "b6b185e0",
   "metadata": {},
   "outputs": [],
   "source": [
    "# Split the data into training and testing sets\n",
    "X_train,X_test,y_train,y_test=train_test_split(X,y,random_state=2)"
   ]
  },
  {
   "cell_type": "markdown",
   "id": "ab7ea72e",
   "metadata": {},
   "source": [
    "# RESAMPLING PREVENTATIVE SERVICES VS CANCER"
   ]
  },
  {
   "cell_type": "markdown",
   "id": "98301bb3",
   "metadata": {},
   "source": [
    "## SMOTEEN\n"
   ]
  },
  {
   "cell_type": "code",
   "execution_count": 12,
   "id": "3170e8ff",
   "metadata": {},
   "outputs": [
    {
     "data": {
      "text/plain": [
       "Counter({'high_risk': 2313, 'normal_risk': 2225})"
      ]
     },
     "execution_count": 12,
     "metadata": {},
     "output_type": "execute_result"
    }
   ],
   "source": [
    "# Instantiate a SMOTEEN class\n",
    "smote_enn = SMOTEENN(random_state=1)\n",
    "X_resampled, y_resampled = smote_enn.fit_resample(X_train,y_train)\n",
    "Counter(y_resampled)"
   ]
  },
  {
   "cell_type": "code",
   "execution_count": 13,
   "id": "66cb2df1",
   "metadata": {},
   "outputs": [],
   "source": [
    "# Scale the data\n",
    "#scaler = StandardScaler()\n",
    "#X_train_scaled_resampled = scaler.fit_transform(X_resampled)\n",
    "#X_test_scaled_resampled = scaler.transform(X_train_scaled_resampled)"
   ]
  },
  {
   "cell_type": "code",
   "execution_count": 14,
   "id": "b9f42c08",
   "metadata": {},
   "outputs": [
    {
     "name": "stdout",
     "output_type": "stream",
     "text": [
      "X_train: (4538, 10)\n",
      "X_test: (781, 10)\n",
      "Y_train: (4538,)\n",
      "Y_test: (781, 1)\n"
     ]
    }
   ],
   "source": [
    "#shapes of splitted data\n",
    "print(\"X_train:\",X_resampled.shape)\n",
    "print(\"X_test:\",X_test.shape)\n",
    "print(\"Y_train:\",y_resampled.shape)\n",
    "print(\"Y_test:\",y_test.shape)"
   ]
  },
  {
   "cell_type": "code",
   "execution_count": 15,
   "id": "89eb29f4",
   "metadata": {},
   "outputs": [
    {
     "data": {
      "text/plain": [
       "LogisticRegression(max_iter=1000, random_state=1)"
      ]
     },
     "execution_count": 15,
     "metadata": {},
     "output_type": "execute_result"
    }
   ],
   "source": [
    "# Train a logistic regression model using resampled data\n",
    "model = LogisticRegression(solver='lbfgs', random_state=1, max_iter=1000)\n",
    "model.fit(X_resampled, y_resampled)"
   ]
  },
  {
   "cell_type": "code",
   "execution_count": 16,
   "id": "6398feee",
   "metadata": {},
   "outputs": [
    {
     "data": {
      "text/plain": [
       "array(['normal_risk', 'normal_risk', 'normal_risk', 'normal_risk',\n",
       "       'normal_risk'], dtype=object)"
      ]
     },
     "execution_count": 16,
     "metadata": {},
     "output_type": "execute_result"
    }
   ],
   "source": [
    "# get predictions\n",
    "y_pred = model.predict(X_test)\n",
    "y_pred[:5]"
   ]
  },
  {
   "cell_type": "code",
   "execution_count": 17,
   "id": "95a62bb0",
   "metadata": {},
   "outputs": [
    {
     "name": "stdout",
     "output_type": "stream",
     "text": [
      " Accuracy of the model is 0.75\n"
     ]
    }
   ],
   "source": [
    "# Print the accuracy score\n",
    "Accuracy = balanced_accuracy_score(y_test,y_pred)\n",
    "print(\" Accuracy of the model is %.2f\" %Accuracy)"
   ]
  },
  {
   "cell_type": "code",
   "execution_count": 18,
   "id": "80479519",
   "metadata": {},
   "outputs": [
    {
     "data": {
      "text/plain": [
       "array([[  5,   3],\n",
       "       [ 91, 682]], dtype=int64)"
      ]
     },
     "execution_count": 18,
     "metadata": {},
     "output_type": "execute_result"
    }
   ],
   "source": [
    "# Display a confusion matrix\n",
    "confusion_matrix(y_test, y_pred)"
   ]
  },
  {
   "cell_type": "code",
   "execution_count": 19,
   "id": "60d0313a",
   "metadata": {},
   "outputs": [
    {
     "name": "stdout",
     "output_type": "stream",
     "text": [
      "                   pre       rec       spe        f1       geo       iba       sup\n",
      "\n",
      "  high_risk       0.05      0.62      0.88      0.10      0.74      0.54         8\n",
      "normal_risk       1.00      0.88      0.62      0.94      0.74      0.57       773\n",
      "\n",
      "avg / total       0.99      0.88      0.63      0.93      0.74      0.57       781\n",
      "\n"
     ]
    }
   ],
   "source": [
    "# print a classification report\n",
    "print(classification_report_imbalanced(y_test, y_pred))"
   ]
  },
  {
   "cell_type": "markdown",
   "id": "b5da55f5",
   "metadata": {},
   "source": [
    "## SMOTE"
   ]
  },
  {
   "cell_type": "code",
   "execution_count": 20,
   "id": "dec2026d",
   "metadata": {},
   "outputs": [
    {
     "data": {
      "text/plain": [
       "Counter({'normal_risk': 2316, 'high_risk': 2316})"
      ]
     },
     "execution_count": 20,
     "metadata": {},
     "output_type": "execute_result"
    }
   ],
   "source": [
    "# Resample the training data with SMOTE\n",
    "X_resampled, y_resampled = SMOTE(random_state=1, sampling_strategy='auto').fit_resample(X_train, y_train)\n",
    "Counter(y_resampled)"
   ]
  },
  {
   "cell_type": "code",
   "execution_count": 21,
   "id": "448bacae",
   "metadata": {},
   "outputs": [
    {
     "name": "stdout",
     "output_type": "stream",
     "text": [
      "X_train: (4632, 10)\n",
      "X_test: (781, 10)\n",
      "Y_train: (4632,)\n",
      "Y_test: (781, 1)\n"
     ]
    }
   ],
   "source": [
    "#shapes of splitted data\n",
    "print(\"X_train:\",X_resampled.shape)\n",
    "print(\"X_test:\",X_test.shape)\n",
    "print(\"Y_train:\",y_resampled.shape)\n",
    "print(\"Y_test:\",y_test.shape)"
   ]
  },
  {
   "cell_type": "code",
   "execution_count": 22,
   "id": "a76e9dda",
   "metadata": {},
   "outputs": [
    {
     "data": {
      "text/plain": [
       "LogisticRegression(max_iter=1000, random_state=1)"
      ]
     },
     "execution_count": 22,
     "metadata": {},
     "output_type": "execute_result"
    }
   ],
   "source": [
    "# Train the Logistic Regression model using the resampled data\n",
    "model = LogisticRegression(solver=\"lbfgs\", random_state=1, max_iter=1000)\n",
    "model.fit(X_resampled, y_resampled)"
   ]
  },
  {
   "cell_type": "code",
   "execution_count": 23,
   "id": "1faf46e4",
   "metadata": {},
   "outputs": [
    {
     "name": "stdout",
     "output_type": "stream",
     "text": [
      " Accuracy of the model is 0.75\n"
     ]
    }
   ],
   "source": [
    "# Print the accuracy score\n",
    "Accuracy = balanced_accuracy_score(y_test,y_pred)\n",
    "print(\" Accuracy of the model is %.2f\" %Accuracy)"
   ]
  },
  {
   "cell_type": "code",
   "execution_count": 24,
   "id": "e3f70dd8",
   "metadata": {},
   "outputs": [
    {
     "data": {
      "text/plain": [
       "array([[  5,   3],\n",
       "       [ 91, 682]], dtype=int64)"
      ]
     },
     "execution_count": 24,
     "metadata": {},
     "output_type": "execute_result"
    }
   ],
   "source": [
    "# Display the confusion matrix\n",
    "confusion_matrix(y_test, y_pred)"
   ]
  },
  {
   "cell_type": "code",
   "execution_count": 25,
   "id": "2fa006cb",
   "metadata": {},
   "outputs": [
    {
     "name": "stdout",
     "output_type": "stream",
     "text": [
      "                   pre       rec       spe        f1       geo       iba       sup\n",
      "\n",
      "  high_risk       0.05      0.62      0.88      0.10      0.74      0.54         8\n",
      "normal_risk       1.00      0.88      0.62      0.94      0.74      0.57       773\n",
      "\n",
      "avg / total       0.99      0.88      0.63      0.93      0.74      0.57       781\n",
      "\n"
     ]
    }
   ],
   "source": [
    "# Print the imbalanced classification report\n",
    "print(classification_report_imbalanced(y_test, y_pred))"
   ]
  },
  {
   "cell_type": "markdown",
   "id": "0adcff6a",
   "metadata": {},
   "source": [
    "## ClusterCentroids"
   ]
  },
  {
   "cell_type": "code",
   "execution_count": 26,
   "id": "282ab8d0",
   "metadata": {},
   "outputs": [
    {
     "data": {
      "text/plain": [
       "Counter({'high_risk': 24, 'normal_risk': 24})"
      ]
     },
     "execution_count": 26,
     "metadata": {},
     "output_type": "execute_result"
    }
   ],
   "source": [
    "cc = ClusterCentroids(random_state=1)\n",
    "X_resampled, y_resampled = cc.fit_resample(X_train, y_train)\n",
    "Counter(y_resampled)"
   ]
  },
  {
   "cell_type": "code",
   "execution_count": 27,
   "id": "fa83d055",
   "metadata": {},
   "outputs": [
    {
     "data": {
      "text/plain": [
       "LogisticRegression(max_iter=1000, random_state=1)"
      ]
     },
     "execution_count": 27,
     "metadata": {},
     "output_type": "execute_result"
    }
   ],
   "source": [
    "# Train the Logistic Regression model using the resampled data\n",
    "model = LogisticRegression(solver='lbfgs', random_state=1, max_iter=1000)\n",
    "model.fit(X_resampled, y_resampled)"
   ]
  },
  {
   "cell_type": "code",
   "execution_count": 28,
   "id": "48856970",
   "metadata": {},
   "outputs": [
    {
     "data": {
      "text/plain": [
       "0.7258247089262613"
      ]
     },
     "execution_count": 28,
     "metadata": {},
     "output_type": "execute_result"
    }
   ],
   "source": [
    "# Calculated the balanced accuracy score\n",
    "y_pred = model.predict(X_test)\n",
    "balanced_accuracy = balanced_accuracy_score(y_test, y_pred)\n",
    "balanced_accuracy"
   ]
  },
  {
   "cell_type": "code",
   "execution_count": 29,
   "id": "863c6395",
   "metadata": {},
   "outputs": [
    {
     "data": {
      "text/plain": [
       "array([[  5,   3],\n",
       "       [134, 639]], dtype=int64)"
      ]
     },
     "execution_count": 29,
     "metadata": {},
     "output_type": "execute_result"
    }
   ],
   "source": [
    "# Display the confusion matrix\n",
    "confusion_matrix(y_test, y_pred)"
   ]
  },
  {
   "cell_type": "code",
   "execution_count": 30,
   "id": "9f1b8c90",
   "metadata": {},
   "outputs": [
    {
     "name": "stdout",
     "output_type": "stream",
     "text": [
      "                   pre       rec       spe        f1       geo       iba       sup\n",
      "\n",
      "  high_risk       0.04      0.62      0.83      0.07      0.72      0.51         8\n",
      "normal_risk       1.00      0.83      0.62      0.90      0.72      0.53       773\n",
      "\n",
      "avg / total       0.99      0.82      0.63      0.89      0.72      0.53       781\n",
      "\n"
     ]
    }
   ],
   "source": [
    "# Print the imbalanced classification report\n",
    "print(classification_report_imbalanced(y_test, y_pred))"
   ]
  },
  {
   "cell_type": "markdown",
   "id": "407d4f8f",
   "metadata": {},
   "source": [
    "# ENSEMBLE LEARNERS - PREVENTATIVE SERVICES VS CANCER"
   ]
  },
  {
   "cell_type": "markdown",
   "id": "e7ae578c",
   "metadata": {},
   "source": [
    "## BALANCED RANDOM FOREST CLASSIFIER"
   ]
  },
  {
   "cell_type": "code",
   "execution_count": 31,
   "id": "c5128a27",
   "metadata": {},
   "outputs": [],
   "source": [
    "# Define X and y\n",
    "X = prev_df.values\n",
    "y = health_outcomes[\"cancer_risk\"].values"
   ]
  },
  {
   "cell_type": "code",
   "execution_count": 32,
   "id": "b00586e1",
   "metadata": {},
   "outputs": [],
   "source": [
    "# Split the data into training and testing sets\n",
    "X_train,X_test,y_train,y_test=train_test_split(X,y,random_state=2)"
   ]
  },
  {
   "cell_type": "code",
   "execution_count": 33,
   "id": "9561d8ee",
   "metadata": {},
   "outputs": [
    {
     "data": {
      "text/plain": [
       "Counter({'normal_risk': 2316, 'high_risk': 24})"
      ]
     },
     "execution_count": 33,
     "metadata": {},
     "output_type": "execute_result"
    }
   ],
   "source": [
    "brf_model = BalancedRandomForestClassifier(n_estimators=100, random_state=1)\n",
    "brf_model.fit(X_train, y_train)\n",
    "Counter(y_train)"
   ]
  },
  {
   "cell_type": "code",
   "execution_count": 34,
   "id": "93d70d93",
   "metadata": {},
   "outputs": [
    {
     "data": {
      "text/plain": [
       "0.8618208279430789"
      ]
     },
     "execution_count": 34,
     "metadata": {},
     "output_type": "execute_result"
    }
   ],
   "source": [
    "# Calculated the balanced accuracy score\n",
    "y_pred = brf_model.predict(X_test)\n",
    "acc_score = balanced_accuracy_score(y_test, y_pred)\n",
    "acc_score"
   ]
  },
  {
   "cell_type": "code",
   "execution_count": 35,
   "id": "aba5d995",
   "metadata": {},
   "outputs": [
    {
     "data": {
      "text/plain": [
       "array([[  7,   1],\n",
       "       [117, 656]], dtype=int64)"
      ]
     },
     "execution_count": 35,
     "metadata": {},
     "output_type": "execute_result"
    }
   ],
   "source": [
    "# Display the confusion matrix\n",
    "confusion_matrix(y_test, y_pred)"
   ]
  },
  {
   "cell_type": "code",
   "execution_count": 36,
   "id": "3138f570",
   "metadata": {},
   "outputs": [
    {
     "name": "stdout",
     "output_type": "stream",
     "text": [
      "                   pre       rec       spe        f1       geo       iba       sup\n",
      "\n",
      "  high_risk       0.06      0.88      0.85      0.11      0.86      0.74         8\n",
      "normal_risk       1.00      0.85      0.88      0.92      0.86      0.74       773\n",
      "\n",
      "avg / total       0.99      0.85      0.87      0.91      0.86      0.74       781\n",
      "\n"
     ]
    }
   ],
   "source": [
    "# Print the imbalanced classification report\n",
    "print(classification_report_imbalanced(y_test, y_pred))"
   ]
  },
  {
   "cell_type": "code",
   "execution_count": 37,
   "id": "8a0a7716",
   "metadata": {},
   "outputs": [
    {
     "data": {
      "text/plain": [
       "[(0.16133474550812157, 'checkup'),\n",
       " (0.15379810449481965, 'access'),\n",
       " (0.14109135980253165, 'cholscreen'),\n",
       " (0.12766649221494697, 'bpmed'),\n",
       " (0.10431499243348975, 'colon_screen'),\n",
       " (0.0757459451582132, 'dental'),\n",
       " (0.07402469064877108, 'cervical'),\n",
       " (0.06548591210729723, 'corem'),\n",
       " (0.057395816633757556, 'corew'),\n",
       " (0.03914194099805126, 'mammouse')]"
      ]
     },
     "execution_count": 37,
     "metadata": {},
     "output_type": "execute_result"
    }
   ],
   "source": [
    "# List the features sorted in descending order by feature importance\n",
    "importances = brf_model.feature_importances_\n",
    "sorted(zip(importances, prev_df.columns), reverse=True)"
   ]
  },
  {
   "cell_type": "markdown",
   "id": "f36aa3a2",
   "metadata": {},
   "source": [
    "## EASY ENSEMBLE ADABOOST CLASSIFIER"
   ]
  },
  {
   "cell_type": "code",
   "execution_count": 38,
   "id": "53fce9f0",
   "metadata": {},
   "outputs": [
    {
     "data": {
      "text/plain": [
       "EasyEnsembleClassifier(n_estimators=100, random_state=1)"
      ]
     },
     "execution_count": 38,
     "metadata": {},
     "output_type": "execute_result"
    }
   ],
   "source": [
    "# Instantiate and train the classifier\n",
    "eec = EasyEnsembleClassifier(n_estimators=100, random_state=1)\n",
    "eec.fit(X_train, y_train)"
   ]
  },
  {
   "cell_type": "code",
   "execution_count": 39,
   "id": "1b9fb336",
   "metadata": {},
   "outputs": [
    {
     "data": {
      "text/plain": [
       "0.8521183699870634"
      ]
     },
     "execution_count": 39,
     "metadata": {},
     "output_type": "execute_result"
    }
   ],
   "source": [
    "# Calculated the balanced accuracy score\n",
    "y_pred = eec.predict(X_test)\n",
    "acc_score = balanced_accuracy_score(y_test, y_pred)\n",
    "acc_score"
   ]
  },
  {
   "cell_type": "code",
   "execution_count": 40,
   "id": "c8a6e61c",
   "metadata": {},
   "outputs": [
    {
     "data": {
      "text/plain": [
       "array([[  7,   1],\n",
       "       [132, 641]], dtype=int64)"
      ]
     },
     "execution_count": 40,
     "metadata": {},
     "output_type": "execute_result"
    }
   ],
   "source": [
    "# Display the confusion matrix\n",
    "confusion_matrix(y_test, y_pred)"
   ]
  },
  {
   "cell_type": "code",
   "execution_count": 41,
   "id": "21ca1a0f",
   "metadata": {},
   "outputs": [
    {
     "name": "stdout",
     "output_type": "stream",
     "text": [
      "                   pre       rec       spe        f1       geo       iba       sup\n",
      "\n",
      "  high_risk       0.05      0.88      0.83      0.10      0.85      0.73         8\n",
      "normal_risk       1.00      0.83      0.88      0.91      0.85      0.72       773\n",
      "\n",
      "avg / total       0.99      0.83      0.87      0.90      0.85      0.72       781\n",
      "\n"
     ]
    }
   ],
   "source": [
    "# Print the imbalanced classification report\n",
    "print(classification_report_imbalanced(y_test, y_pred))"
   ]
  }
 ],
 "metadata": {
  "kernelspec": {
   "display_name": "mlenv",
   "language": "python",
   "name": "mlenv"
  },
  "language_info": {
   "codemirror_mode": {
    "name": "ipython",
    "version": 3
   },
   "file_extension": ".py",
   "mimetype": "text/x-python",
   "name": "python",
   "nbconvert_exporter": "python",
   "pygments_lexer": "ipython3",
   "version": "3.7.13"
  }
 },
 "nbformat": 4,
 "nbformat_minor": 5
}
