{
 "cells": [
  {
   "cell_type": "code",
   "execution_count": 1,
   "id": "325088d2",
   "metadata": {},
   "outputs": [],
   "source": [
    "import pandas as pd"
   ]
  },
  {
   "cell_type": "code",
   "execution_count": 2,
   "id": "e9b69568",
   "metadata": {},
   "outputs": [
    {
     "data": {
      "text/html": [
       "<div>\n",
       "<style scoped>\n",
       "    .dataframe tbody tr th:only-of-type {\n",
       "        vertical-align: middle;\n",
       "    }\n",
       "\n",
       "    .dataframe tbody tr th {\n",
       "        vertical-align: top;\n",
       "    }\n",
       "\n",
       "    .dataframe thead th {\n",
       "        text-align: right;\n",
       "    }\n",
       "</style>\n",
       "<table border=\"1\" class=\"dataframe\">\n",
       "  <thead>\n",
       "    <tr style=\"text-align: right;\">\n",
       "      <th></th>\n",
       "      <th>StateAbbr</th>\n",
       "      <th>StateDesc</th>\n",
       "      <th>CountyName</th>\n",
       "      <th>CountyFIPS</th>\n",
       "      <th>TractFIPS</th>\n",
       "      <th>TotalPopulation</th>\n",
       "      <th>ACCESS2_CrudePrev</th>\n",
       "      <th>ACCESS2_Crude95CI</th>\n",
       "      <th>ARTHRITIS_CrudePrev</th>\n",
       "      <th>ARTHRITIS_Crude95CI</th>\n",
       "      <th>...</th>\n",
       "      <th>OBESITY_Crude95CI</th>\n",
       "      <th>PHLTH_CrudePrev</th>\n",
       "      <th>PHLTH_Crude95CI</th>\n",
       "      <th>SLEEP_CrudePrev</th>\n",
       "      <th>SLEEP_Crude95CI</th>\n",
       "      <th>STROKE_CrudePrev</th>\n",
       "      <th>STROKE_Crude95CI</th>\n",
       "      <th>TEETHLOST_CrudePrev</th>\n",
       "      <th>TEETHLOST_Crude95CI</th>\n",
       "      <th>Geolocation</th>\n",
       "    </tr>\n",
       "  </thead>\n",
       "  <tbody>\n",
       "    <tr>\n",
       "      <th>0</th>\n",
       "      <td>AZ</td>\n",
       "      <td>Arizona</td>\n",
       "      <td>Maricopa</td>\n",
       "      <td>4013</td>\n",
       "      <td>4013422643</td>\n",
       "      <td>5789</td>\n",
       "      <td>11.9</td>\n",
       "      <td>(10.1, 14.0)</td>\n",
       "      <td>17.0</td>\n",
       "      <td>(16.1, 17.9)</td>\n",
       "      <td>...</td>\n",
       "      <td>(26.9, 29.7)</td>\n",
       "      <td>9.2</td>\n",
       "      <td>( 8.2, 10.2)</td>\n",
       "      <td>34.5</td>\n",
       "      <td>(33.0, 36.3)</td>\n",
       "      <td>1.8</td>\n",
       "      <td>( 1.6,  2.0)</td>\n",
       "      <td>8.0</td>\n",
       "      <td>( 5.2, 11.6)</td>\n",
       "      <td>POINT (-111.61853 33.35726769)</td>\n",
       "    </tr>\n",
       "    <tr>\n",
       "      <th>1</th>\n",
       "      <td>CA</td>\n",
       "      <td>California</td>\n",
       "      <td>Sacramento</td>\n",
       "      <td>6067</td>\n",
       "      <td>6067007402</td>\n",
       "      <td>6180</td>\n",
       "      <td>15.4</td>\n",
       "      <td>(13.5, 17.3)</td>\n",
       "      <td>24.6</td>\n",
       "      <td>(23.8, 25.3)</td>\n",
       "      <td>...</td>\n",
       "      <td>(29.6, 31.4)</td>\n",
       "      <td>15.1</td>\n",
       "      <td>(14.2, 16.2)</td>\n",
       "      <td>35.7</td>\n",
       "      <td>(34.8, 36.7)</td>\n",
       "      <td>3.9</td>\n",
       "      <td>( 3.6,  4.3)</td>\n",
       "      <td>18.2</td>\n",
       "      <td>(13.7, 23.5)</td>\n",
       "      <td>POINT (-121.3791473 38.6869681)</td>\n",
       "    </tr>\n",
       "    <tr>\n",
       "      <th>2</th>\n",
       "      <td>AL</td>\n",
       "      <td>Alabama</td>\n",
       "      <td>Madison</td>\n",
       "      <td>1089</td>\n",
       "      <td>1089000201</td>\n",
       "      <td>760</td>\n",
       "      <td>25.4</td>\n",
       "      <td>(21.2, 30.1)</td>\n",
       "      <td>36.0</td>\n",
       "      <td>(34.6, 37.3)</td>\n",
       "      <td>...</td>\n",
       "      <td>(46.6, 49.7)</td>\n",
       "      <td>22.5</td>\n",
       "      <td>(20.4, 24.7)</td>\n",
       "      <td>50.3</td>\n",
       "      <td>(48.8, 51.3)</td>\n",
       "      <td>7.6</td>\n",
       "      <td>( 6.8,  8.6)</td>\n",
       "      <td>33.3</td>\n",
       "      <td>(24.1, 43.8)</td>\n",
       "      <td>POINT (-86.55005486 34.77465775)</td>\n",
       "    </tr>\n",
       "    <tr>\n",
       "      <th>3</th>\n",
       "      <td>AL</td>\n",
       "      <td>Alabama</td>\n",
       "      <td>Montgomery</td>\n",
       "      <td>1101</td>\n",
       "      <td>1101002202</td>\n",
       "      <td>1185</td>\n",
       "      <td>25.2</td>\n",
       "      <td>(21.2, 29.4)</td>\n",
       "      <td>36.1</td>\n",
       "      <td>(35.0, 37.3)</td>\n",
       "      <td>...</td>\n",
       "      <td>(45.3, 47.9)</td>\n",
       "      <td>20.7</td>\n",
       "      <td>(19.1, 22.7)</td>\n",
       "      <td>49.7</td>\n",
       "      <td>(48.3, 51.1)</td>\n",
       "      <td>7.2</td>\n",
       "      <td>( 6.4,  8.0)</td>\n",
       "      <td>34.0</td>\n",
       "      <td>(25.6, 42.0)</td>\n",
       "      <td>POINT (-86.30555503 32.31774882)</td>\n",
       "    </tr>\n",
       "    <tr>\n",
       "      <th>4</th>\n",
       "      <td>AL</td>\n",
       "      <td>Alabama</td>\n",
       "      <td>Butler</td>\n",
       "      <td>1013</td>\n",
       "      <td>1013952800</td>\n",
       "      <td>1394</td>\n",
       "      <td>14.3</td>\n",
       "      <td>(11.9, 17.1)</td>\n",
       "      <td>36.0</td>\n",
       "      <td>(34.5, 37.4)</td>\n",
       "      <td>...</td>\n",
       "      <td>(32.3, 35.2)</td>\n",
       "      <td>15.2</td>\n",
       "      <td>(13.5, 16.9)</td>\n",
       "      <td>35.7</td>\n",
       "      <td>(33.9, 37.5)</td>\n",
       "      <td>4.2</td>\n",
       "      <td>( 3.6,  4.8)</td>\n",
       "      <td>15.1</td>\n",
       "      <td>( 8.9, 22.9)</td>\n",
       "      <td>POINT (-86.62833756 31.83774723)</td>\n",
       "    </tr>\n",
       "  </tbody>\n",
       "</table>\n",
       "<p>5 rows × 67 columns</p>\n",
       "</div>"
      ],
      "text/plain": [
       "  StateAbbr   StateDesc  CountyName  CountyFIPS   TractFIPS  TotalPopulation  \\\n",
       "0        AZ     Arizona    Maricopa        4013  4013422643             5789   \n",
       "1        CA  California  Sacramento        6067  6067007402             6180   \n",
       "2        AL     Alabama     Madison        1089  1089000201              760   \n",
       "3        AL     Alabama  Montgomery        1101  1101002202             1185   \n",
       "4        AL     Alabama      Butler        1013  1013952800             1394   \n",
       "\n",
       "   ACCESS2_CrudePrev ACCESS2_Crude95CI  ARTHRITIS_CrudePrev  \\\n",
       "0               11.9      (10.1, 14.0)                 17.0   \n",
       "1               15.4      (13.5, 17.3)                 24.6   \n",
       "2               25.4      (21.2, 30.1)                 36.0   \n",
       "3               25.2      (21.2, 29.4)                 36.1   \n",
       "4               14.3      (11.9, 17.1)                 36.0   \n",
       "\n",
       "  ARTHRITIS_Crude95CI  ...  OBESITY_Crude95CI PHLTH_CrudePrev  \\\n",
       "0        (16.1, 17.9)  ...       (26.9, 29.7)             9.2   \n",
       "1        (23.8, 25.3)  ...       (29.6, 31.4)            15.1   \n",
       "2        (34.6, 37.3)  ...       (46.6, 49.7)            22.5   \n",
       "3        (35.0, 37.3)  ...       (45.3, 47.9)            20.7   \n",
       "4        (34.5, 37.4)  ...       (32.3, 35.2)            15.2   \n",
       "\n",
       "   PHLTH_Crude95CI SLEEP_CrudePrev  SLEEP_Crude95CI STROKE_CrudePrev  \\\n",
       "0     ( 8.2, 10.2)            34.5     (33.0, 36.3)              1.8   \n",
       "1     (14.2, 16.2)            35.7     (34.8, 36.7)              3.9   \n",
       "2     (20.4, 24.7)            50.3     (48.8, 51.3)              7.6   \n",
       "3     (19.1, 22.7)            49.7     (48.3, 51.1)              7.2   \n",
       "4     (13.5, 16.9)            35.7     (33.9, 37.5)              4.2   \n",
       "\n",
       "   STROKE_Crude95CI TEETHLOST_CrudePrev  TEETHLOST_Crude95CI  \\\n",
       "0      ( 1.6,  2.0)                 8.0         ( 5.2, 11.6)   \n",
       "1      ( 3.6,  4.3)                18.2         (13.7, 23.5)   \n",
       "2      ( 6.8,  8.6)                33.3         (24.1, 43.8)   \n",
       "3      ( 6.4,  8.0)                34.0         (25.6, 42.0)   \n",
       "4      ( 3.6,  4.8)                15.1         ( 8.9, 22.9)   \n",
       "\n",
       "                        Geolocation  \n",
       "0    POINT (-111.61853 33.35726769)  \n",
       "1   POINT (-121.3791473 38.6869681)  \n",
       "2  POINT (-86.55005486 34.77465775)  \n",
       "3  POINT (-86.30555503 32.31774882)  \n",
       "4  POINT (-86.62833756 31.83774723)  \n",
       "\n",
       "[5 rows x 67 columns]"
      ]
     },
     "execution_count": 2,
     "metadata": {},
     "output_type": "execute_result"
    }
   ],
   "source": [
    "census_df = pd.read_csv(\"PLACES__Census_Tract_Data__GIS_Friendly_Format___2021_release.csv\")\n",
    "census_df.head()"
   ]
  },
  {
   "cell_type": "code",
   "execution_count": 3,
   "id": "b2827dee",
   "metadata": {},
   "outputs": [],
   "source": [
    "census_columns = census_df.columns\n",
    "\n",
    "for column in census_columns:\n",
    "    if (\"CI\" in column):\n",
    "        census_df = census_df.drop(column, axis=1)"
   ]
  },
  {
   "cell_type": "code",
   "execution_count": 4,
   "id": "193fd85b",
   "metadata": {},
   "outputs": [
    {
     "data": {
      "text/html": [
       "<div>\n",
       "<style scoped>\n",
       "    .dataframe tbody tr th:only-of-type {\n",
       "        vertical-align: middle;\n",
       "    }\n",
       "\n",
       "    .dataframe tbody tr th {\n",
       "        vertical-align: top;\n",
       "    }\n",
       "\n",
       "    .dataframe thead th {\n",
       "        text-align: right;\n",
       "    }\n",
       "</style>\n",
       "<table border=\"1\" class=\"dataframe\">\n",
       "  <thead>\n",
       "    <tr style=\"text-align: right;\">\n",
       "      <th></th>\n",
       "      <th>StateAbbr</th>\n",
       "      <th>StateDesc</th>\n",
       "      <th>CountyName</th>\n",
       "      <th>CountyFIPS</th>\n",
       "      <th>TractFIPS</th>\n",
       "      <th>TotalPopulation</th>\n",
       "      <th>ACCESS2_CrudePrev</th>\n",
       "      <th>ARTHRITIS_CrudePrev</th>\n",
       "      <th>BINGE_CrudePrev</th>\n",
       "      <th>BPHIGH_CrudePrev</th>\n",
       "      <th>...</th>\n",
       "      <th>KIDNEY_CrudePrev</th>\n",
       "      <th>LPA_CrudePrev</th>\n",
       "      <th>MAMMOUSE_CrudePrev</th>\n",
       "      <th>MHLTH_CrudePrev</th>\n",
       "      <th>OBESITY_CrudePrev</th>\n",
       "      <th>PHLTH_CrudePrev</th>\n",
       "      <th>SLEEP_CrudePrev</th>\n",
       "      <th>STROKE_CrudePrev</th>\n",
       "      <th>TEETHLOST_CrudePrev</th>\n",
       "      <th>Geolocation</th>\n",
       "    </tr>\n",
       "  </thead>\n",
       "  <tbody>\n",
       "    <tr>\n",
       "      <th>0</th>\n",
       "      <td>AZ</td>\n",
       "      <td>Arizona</td>\n",
       "      <td>Maricopa</td>\n",
       "      <td>4013</td>\n",
       "      <td>4013422643</td>\n",
       "      <td>5789</td>\n",
       "      <td>11.9</td>\n",
       "      <td>17.0</td>\n",
       "      <td>19.9</td>\n",
       "      <td>23.7</td>\n",
       "      <td>...</td>\n",
       "      <td>2.1</td>\n",
       "      <td>18.1</td>\n",
       "      <td>73.8</td>\n",
       "      <td>13.9</td>\n",
       "      <td>28.3</td>\n",
       "      <td>9.2</td>\n",
       "      <td>34.5</td>\n",
       "      <td>1.8</td>\n",
       "      <td>8.0</td>\n",
       "      <td>POINT (-111.61853 33.35726769)</td>\n",
       "    </tr>\n",
       "    <tr>\n",
       "      <th>1</th>\n",
       "      <td>CA</td>\n",
       "      <td>California</td>\n",
       "      <td>Sacramento</td>\n",
       "      <td>6067</td>\n",
       "      <td>6067007402</td>\n",
       "      <td>6180</td>\n",
       "      <td>15.4</td>\n",
       "      <td>24.6</td>\n",
       "      <td>19.6</td>\n",
       "      <td>30.5</td>\n",
       "      <td>...</td>\n",
       "      <td>3.4</td>\n",
       "      <td>28.0</td>\n",
       "      <td>76.5</td>\n",
       "      <td>16.1</td>\n",
       "      <td>30.5</td>\n",
       "      <td>15.1</td>\n",
       "      <td>35.7</td>\n",
       "      <td>3.9</td>\n",
       "      <td>18.2</td>\n",
       "      <td>POINT (-121.3791473 38.6869681)</td>\n",
       "    </tr>\n",
       "    <tr>\n",
       "      <th>2</th>\n",
       "      <td>AL</td>\n",
       "      <td>Alabama</td>\n",
       "      <td>Madison</td>\n",
       "      <td>1089</td>\n",
       "      <td>1089000201</td>\n",
       "      <td>760</td>\n",
       "      <td>25.4</td>\n",
       "      <td>36.0</td>\n",
       "      <td>10.5</td>\n",
       "      <td>53.7</td>\n",
       "      <td>...</td>\n",
       "      <td>5.5</td>\n",
       "      <td>48.2</td>\n",
       "      <td>84.1</td>\n",
       "      <td>22.8</td>\n",
       "      <td>48.2</td>\n",
       "      <td>22.5</td>\n",
       "      <td>50.3</td>\n",
       "      <td>7.6</td>\n",
       "      <td>33.3</td>\n",
       "      <td>POINT (-86.55005486 34.77465775)</td>\n",
       "    </tr>\n",
       "    <tr>\n",
       "      <th>3</th>\n",
       "      <td>AL</td>\n",
       "      <td>Alabama</td>\n",
       "      <td>Montgomery</td>\n",
       "      <td>1101</td>\n",
       "      <td>1101002202</td>\n",
       "      <td>1185</td>\n",
       "      <td>25.2</td>\n",
       "      <td>36.1</td>\n",
       "      <td>10.9</td>\n",
       "      <td>54.6</td>\n",
       "      <td>...</td>\n",
       "      <td>4.9</td>\n",
       "      <td>44.9</td>\n",
       "      <td>85.4</td>\n",
       "      <td>21.4</td>\n",
       "      <td>46.7</td>\n",
       "      <td>20.7</td>\n",
       "      <td>49.7</td>\n",
       "      <td>7.2</td>\n",
       "      <td>34.0</td>\n",
       "      <td>POINT (-86.30555503 32.31774882)</td>\n",
       "    </tr>\n",
       "    <tr>\n",
       "      <th>4</th>\n",
       "      <td>AL</td>\n",
       "      <td>Alabama</td>\n",
       "      <td>Butler</td>\n",
       "      <td>1013</td>\n",
       "      <td>1013952800</td>\n",
       "      <td>1394</td>\n",
       "      <td>14.3</td>\n",
       "      <td>36.0</td>\n",
       "      <td>13.4</td>\n",
       "      <td>43.0</td>\n",
       "      <td>...</td>\n",
       "      <td>3.3</td>\n",
       "      <td>33.1</td>\n",
       "      <td>77.5</td>\n",
       "      <td>15.6</td>\n",
       "      <td>33.8</td>\n",
       "      <td>15.2</td>\n",
       "      <td>35.7</td>\n",
       "      <td>4.2</td>\n",
       "      <td>15.1</td>\n",
       "      <td>POINT (-86.62833756 31.83774723)</td>\n",
       "    </tr>\n",
       "  </tbody>\n",
       "</table>\n",
       "<p>5 rows × 37 columns</p>\n",
       "</div>"
      ],
      "text/plain": [
       "  StateAbbr   StateDesc  CountyName  CountyFIPS   TractFIPS  TotalPopulation  \\\n",
       "0        AZ     Arizona    Maricopa        4013  4013422643             5789   \n",
       "1        CA  California  Sacramento        6067  6067007402             6180   \n",
       "2        AL     Alabama     Madison        1089  1089000201              760   \n",
       "3        AL     Alabama  Montgomery        1101  1101002202             1185   \n",
       "4        AL     Alabama      Butler        1013  1013952800             1394   \n",
       "\n",
       "   ACCESS2_CrudePrev  ARTHRITIS_CrudePrev  BINGE_CrudePrev  BPHIGH_CrudePrev  \\\n",
       "0               11.9                 17.0             19.9              23.7   \n",
       "1               15.4                 24.6             19.6              30.5   \n",
       "2               25.4                 36.0             10.5              53.7   \n",
       "3               25.2                 36.1             10.9              54.6   \n",
       "4               14.3                 36.0             13.4              43.0   \n",
       "\n",
       "   ...  KIDNEY_CrudePrev  LPA_CrudePrev  MAMMOUSE_CrudePrev  MHLTH_CrudePrev  \\\n",
       "0  ...               2.1           18.1                73.8             13.9   \n",
       "1  ...               3.4           28.0                76.5             16.1   \n",
       "2  ...               5.5           48.2                84.1             22.8   \n",
       "3  ...               4.9           44.9                85.4             21.4   \n",
       "4  ...               3.3           33.1                77.5             15.6   \n",
       "\n",
       "   OBESITY_CrudePrev  PHLTH_CrudePrev  SLEEP_CrudePrev  STROKE_CrudePrev  \\\n",
       "0               28.3              9.2             34.5               1.8   \n",
       "1               30.5             15.1             35.7               3.9   \n",
       "2               48.2             22.5             50.3               7.6   \n",
       "3               46.7             20.7             49.7               7.2   \n",
       "4               33.8             15.2             35.7               4.2   \n",
       "\n",
       "   TEETHLOST_CrudePrev                       Geolocation  \n",
       "0                  8.0    POINT (-111.61853 33.35726769)  \n",
       "1                 18.2   POINT (-121.3791473 38.6869681)  \n",
       "2                 33.3  POINT (-86.55005486 34.77465775)  \n",
       "3                 34.0  POINT (-86.30555503 32.31774882)  \n",
       "4                 15.1  POINT (-86.62833756 31.83774723)  \n",
       "\n",
       "[5 rows x 37 columns]"
      ]
     },
     "execution_count": 4,
     "metadata": {},
     "output_type": "execute_result"
    }
   ],
   "source": [
    "census_df.head()"
   ]
  },
  {
   "cell_type": "code",
   "execution_count": 5,
   "id": "14b5f223",
   "metadata": {},
   "outputs": [],
   "source": [
    "census_df = census_df.drop(columns=[\"CountyFIPS\", \"TractFIPS\"])"
   ]
  },
  {
   "cell_type": "code",
   "execution_count": 6,
   "id": "db0a7c4b",
   "metadata": {},
   "outputs": [],
   "source": [
    "geo_location = census_df[\"Geolocation\"]\n",
    "census_df = census_df.drop(\"Geolocation\", axis=1)"
   ]
  },
  {
   "cell_type": "code",
   "execution_count": 7,
   "id": "dd1d590e",
   "metadata": {},
   "outputs": [
    {
     "data": {
      "text/html": [
       "<div>\n",
       "<style scoped>\n",
       "    .dataframe tbody tr th:only-of-type {\n",
       "        vertical-align: middle;\n",
       "    }\n",
       "\n",
       "    .dataframe tbody tr th {\n",
       "        vertical-align: top;\n",
       "    }\n",
       "\n",
       "    .dataframe thead th {\n",
       "        text-align: right;\n",
       "    }\n",
       "</style>\n",
       "<table border=\"1\" class=\"dataframe\">\n",
       "  <thead>\n",
       "    <tr style=\"text-align: right;\">\n",
       "      <th></th>\n",
       "      <th>StateAbbr</th>\n",
       "      <th>StateDesc</th>\n",
       "      <th>CountyName</th>\n",
       "      <th>TotalPopulation</th>\n",
       "      <th>ACCESS2_CrudePrev</th>\n",
       "      <th>ARTHRITIS_CrudePrev</th>\n",
       "      <th>BINGE_CrudePrev</th>\n",
       "      <th>BPHIGH_CrudePrev</th>\n",
       "      <th>BPMED_CrudePrev</th>\n",
       "      <th>CANCER_CrudePrev</th>\n",
       "      <th>...</th>\n",
       "      <th>HIGHCHOL_CrudePrev</th>\n",
       "      <th>KIDNEY_CrudePrev</th>\n",
       "      <th>LPA_CrudePrev</th>\n",
       "      <th>MAMMOUSE_CrudePrev</th>\n",
       "      <th>MHLTH_CrudePrev</th>\n",
       "      <th>OBESITY_CrudePrev</th>\n",
       "      <th>PHLTH_CrudePrev</th>\n",
       "      <th>SLEEP_CrudePrev</th>\n",
       "      <th>STROKE_CrudePrev</th>\n",
       "      <th>TEETHLOST_CrudePrev</th>\n",
       "    </tr>\n",
       "  </thead>\n",
       "  <tbody>\n",
       "    <tr>\n",
       "      <th>0</th>\n",
       "      <td>AZ</td>\n",
       "      <td>Arizona</td>\n",
       "      <td>Maricopa</td>\n",
       "      <td>5789</td>\n",
       "      <td>11.9</td>\n",
       "      <td>17.0</td>\n",
       "      <td>19.9</td>\n",
       "      <td>23.7</td>\n",
       "      <td>63.0</td>\n",
       "      <td>5.2</td>\n",
       "      <td>...</td>\n",
       "      <td>27.4</td>\n",
       "      <td>2.1</td>\n",
       "      <td>18.1</td>\n",
       "      <td>73.8</td>\n",
       "      <td>13.9</td>\n",
       "      <td>28.3</td>\n",
       "      <td>9.2</td>\n",
       "      <td>34.5</td>\n",
       "      <td>1.8</td>\n",
       "      <td>8.0</td>\n",
       "    </tr>\n",
       "    <tr>\n",
       "      <th>1</th>\n",
       "      <td>CA</td>\n",
       "      <td>California</td>\n",
       "      <td>Sacramento</td>\n",
       "      <td>6180</td>\n",
       "      <td>15.4</td>\n",
       "      <td>24.6</td>\n",
       "      <td>19.6</td>\n",
       "      <td>30.5</td>\n",
       "      <td>71.1</td>\n",
       "      <td>6.8</td>\n",
       "      <td>...</td>\n",
       "      <td>29.9</td>\n",
       "      <td>3.4</td>\n",
       "      <td>28.0</td>\n",
       "      <td>76.5</td>\n",
       "      <td>16.1</td>\n",
       "      <td>30.5</td>\n",
       "      <td>15.1</td>\n",
       "      <td>35.7</td>\n",
       "      <td>3.9</td>\n",
       "      <td>18.2</td>\n",
       "    </tr>\n",
       "    <tr>\n",
       "      <th>2</th>\n",
       "      <td>AL</td>\n",
       "      <td>Alabama</td>\n",
       "      <td>Madison</td>\n",
       "      <td>760</td>\n",
       "      <td>25.4</td>\n",
       "      <td>36.0</td>\n",
       "      <td>10.5</td>\n",
       "      <td>53.7</td>\n",
       "      <td>80.4</td>\n",
       "      <td>5.7</td>\n",
       "      <td>...</td>\n",
       "      <td>32.5</td>\n",
       "      <td>5.5</td>\n",
       "      <td>48.2</td>\n",
       "      <td>84.1</td>\n",
       "      <td>22.8</td>\n",
       "      <td>48.2</td>\n",
       "      <td>22.5</td>\n",
       "      <td>50.3</td>\n",
       "      <td>7.6</td>\n",
       "      <td>33.3</td>\n",
       "    </tr>\n",
       "    <tr>\n",
       "      <th>3</th>\n",
       "      <td>AL</td>\n",
       "      <td>Alabama</td>\n",
       "      <td>Montgomery</td>\n",
       "      <td>1185</td>\n",
       "      <td>25.2</td>\n",
       "      <td>36.1</td>\n",
       "      <td>10.9</td>\n",
       "      <td>54.6</td>\n",
       "      <td>80.0</td>\n",
       "      <td>5.9</td>\n",
       "      <td>...</td>\n",
       "      <td>34.5</td>\n",
       "      <td>4.9</td>\n",
       "      <td>44.9</td>\n",
       "      <td>85.4</td>\n",
       "      <td>21.4</td>\n",
       "      <td>46.7</td>\n",
       "      <td>20.7</td>\n",
       "      <td>49.7</td>\n",
       "      <td>7.2</td>\n",
       "      <td>34.0</td>\n",
       "    </tr>\n",
       "    <tr>\n",
       "      <th>4</th>\n",
       "      <td>AL</td>\n",
       "      <td>Alabama</td>\n",
       "      <td>Butler</td>\n",
       "      <td>1394</td>\n",
       "      <td>14.3</td>\n",
       "      <td>36.0</td>\n",
       "      <td>13.4</td>\n",
       "      <td>43.0</td>\n",
       "      <td>80.4</td>\n",
       "      <td>8.6</td>\n",
       "      <td>...</td>\n",
       "      <td>38.8</td>\n",
       "      <td>3.3</td>\n",
       "      <td>33.1</td>\n",
       "      <td>77.5</td>\n",
       "      <td>15.6</td>\n",
       "      <td>33.8</td>\n",
       "      <td>15.2</td>\n",
       "      <td>35.7</td>\n",
       "      <td>4.2</td>\n",
       "      <td>15.1</td>\n",
       "    </tr>\n",
       "    <tr>\n",
       "      <th>...</th>\n",
       "      <td>...</td>\n",
       "      <td>...</td>\n",
       "      <td>...</td>\n",
       "      <td>...</td>\n",
       "      <td>...</td>\n",
       "      <td>...</td>\n",
       "      <td>...</td>\n",
       "      <td>...</td>\n",
       "      <td>...</td>\n",
       "      <td>...</td>\n",
       "      <td>...</td>\n",
       "      <td>...</td>\n",
       "      <td>...</td>\n",
       "      <td>...</td>\n",
       "      <td>...</td>\n",
       "      <td>...</td>\n",
       "      <td>...</td>\n",
       "      <td>...</td>\n",
       "      <td>...</td>\n",
       "      <td>...</td>\n",
       "      <td>...</td>\n",
       "    </tr>\n",
       "    <tr>\n",
       "      <th>72332</th>\n",
       "      <td>WI</td>\n",
       "      <td>Wisconsin</td>\n",
       "      <td>Milwaukee</td>\n",
       "      <td>3953</td>\n",
       "      <td>9.0</td>\n",
       "      <td>30.4</td>\n",
       "      <td>22.7</td>\n",
       "      <td>30.3</td>\n",
       "      <td>77.1</td>\n",
       "      <td>8.8</td>\n",
       "      <td>...</td>\n",
       "      <td>35.1</td>\n",
       "      <td>2.8</td>\n",
       "      <td>19.8</td>\n",
       "      <td>77.7</td>\n",
       "      <td>11.5</td>\n",
       "      <td>30.0</td>\n",
       "      <td>10.3</td>\n",
       "      <td>30.0</td>\n",
       "      <td>3.0</td>\n",
       "      <td>8.6</td>\n",
       "    </tr>\n",
       "    <tr>\n",
       "      <th>72333</th>\n",
       "      <td>WI</td>\n",
       "      <td>Wisconsin</td>\n",
       "      <td>Barron</td>\n",
       "      <td>4215</td>\n",
       "      <td>12.1</td>\n",
       "      <td>30.8</td>\n",
       "      <td>20.5</td>\n",
       "      <td>33.8</td>\n",
       "      <td>75.7</td>\n",
       "      <td>8.0</td>\n",
       "      <td>...</td>\n",
       "      <td>34.9</td>\n",
       "      <td>3.2</td>\n",
       "      <td>26.8</td>\n",
       "      <td>76.0</td>\n",
       "      <td>14.6</td>\n",
       "      <td>35.7</td>\n",
       "      <td>13.7</td>\n",
       "      <td>33.4</td>\n",
       "      <td>3.7</td>\n",
       "      <td>14.4</td>\n",
       "    </tr>\n",
       "    <tr>\n",
       "      <th>72334</th>\n",
       "      <td>WI</td>\n",
       "      <td>Wisconsin</td>\n",
       "      <td>Ozaukee</td>\n",
       "      <td>6079</td>\n",
       "      <td>9.9</td>\n",
       "      <td>25.3</td>\n",
       "      <td>25.1</td>\n",
       "      <td>29.2</td>\n",
       "      <td>71.1</td>\n",
       "      <td>6.9</td>\n",
       "      <td>...</td>\n",
       "      <td>33.6</td>\n",
       "      <td>2.4</td>\n",
       "      <td>21.8</td>\n",
       "      <td>74.6</td>\n",
       "      <td>13.2</td>\n",
       "      <td>35.0</td>\n",
       "      <td>10.8</td>\n",
       "      <td>32.5</td>\n",
       "      <td>2.7</td>\n",
       "      <td>10.8</td>\n",
       "    </tr>\n",
       "    <tr>\n",
       "      <th>72335</th>\n",
       "      <td>WI</td>\n",
       "      <td>Wisconsin</td>\n",
       "      <td>Waushara</td>\n",
       "      <td>4515</td>\n",
       "      <td>15.8</td>\n",
       "      <td>31.9</td>\n",
       "      <td>19.5</td>\n",
       "      <td>36.8</td>\n",
       "      <td>76.7</td>\n",
       "      <td>8.3</td>\n",
       "      <td>...</td>\n",
       "      <td>35.9</td>\n",
       "      <td>3.7</td>\n",
       "      <td>30.8</td>\n",
       "      <td>74.5</td>\n",
       "      <td>15.3</td>\n",
       "      <td>39.4</td>\n",
       "      <td>15.5</td>\n",
       "      <td>34.0</td>\n",
       "      <td>4.4</td>\n",
       "      <td>18.6</td>\n",
       "    </tr>\n",
       "    <tr>\n",
       "      <th>72336</th>\n",
       "      <td>WI</td>\n",
       "      <td>Wisconsin</td>\n",
       "      <td>Outagamie</td>\n",
       "      <td>2762</td>\n",
       "      <td>14.2</td>\n",
       "      <td>20.2</td>\n",
       "      <td>25.8</td>\n",
       "      <td>25.5</td>\n",
       "      <td>64.3</td>\n",
       "      <td>4.7</td>\n",
       "      <td>...</td>\n",
       "      <td>26.6</td>\n",
       "      <td>2.3</td>\n",
       "      <td>25.5</td>\n",
       "      <td>73.0</td>\n",
       "      <td>17.1</td>\n",
       "      <td>36.1</td>\n",
       "      <td>11.6</td>\n",
       "      <td>35.5</td>\n",
       "      <td>2.5</td>\n",
       "      <td>14.5</td>\n",
       "    </tr>\n",
       "  </tbody>\n",
       "</table>\n",
       "<p>72337 rows × 34 columns</p>\n",
       "</div>"
      ],
      "text/plain": [
       "      StateAbbr   StateDesc  CountyName  TotalPopulation  ACCESS2_CrudePrev  \\\n",
       "0            AZ     Arizona    Maricopa             5789               11.9   \n",
       "1            CA  California  Sacramento             6180               15.4   \n",
       "2            AL     Alabama     Madison              760               25.4   \n",
       "3            AL     Alabama  Montgomery             1185               25.2   \n",
       "4            AL     Alabama      Butler             1394               14.3   \n",
       "...         ...         ...         ...              ...                ...   \n",
       "72332        WI   Wisconsin   Milwaukee             3953                9.0   \n",
       "72333        WI   Wisconsin      Barron             4215               12.1   \n",
       "72334        WI   Wisconsin     Ozaukee             6079                9.9   \n",
       "72335        WI   Wisconsin    Waushara             4515               15.8   \n",
       "72336        WI   Wisconsin   Outagamie             2762               14.2   \n",
       "\n",
       "       ARTHRITIS_CrudePrev  BINGE_CrudePrev  BPHIGH_CrudePrev  \\\n",
       "0                     17.0             19.9              23.7   \n",
       "1                     24.6             19.6              30.5   \n",
       "2                     36.0             10.5              53.7   \n",
       "3                     36.1             10.9              54.6   \n",
       "4                     36.0             13.4              43.0   \n",
       "...                    ...              ...               ...   \n",
       "72332                 30.4             22.7              30.3   \n",
       "72333                 30.8             20.5              33.8   \n",
       "72334                 25.3             25.1              29.2   \n",
       "72335                 31.9             19.5              36.8   \n",
       "72336                 20.2             25.8              25.5   \n",
       "\n",
       "       BPMED_CrudePrev  CANCER_CrudePrev  ...  HIGHCHOL_CrudePrev  \\\n",
       "0                 63.0               5.2  ...                27.4   \n",
       "1                 71.1               6.8  ...                29.9   \n",
       "2                 80.4               5.7  ...                32.5   \n",
       "3                 80.0               5.9  ...                34.5   \n",
       "4                 80.4               8.6  ...                38.8   \n",
       "...                ...               ...  ...                 ...   \n",
       "72332             77.1               8.8  ...                35.1   \n",
       "72333             75.7               8.0  ...                34.9   \n",
       "72334             71.1               6.9  ...                33.6   \n",
       "72335             76.7               8.3  ...                35.9   \n",
       "72336             64.3               4.7  ...                26.6   \n",
       "\n",
       "       KIDNEY_CrudePrev  LPA_CrudePrev  MAMMOUSE_CrudePrev  MHLTH_CrudePrev  \\\n",
       "0                   2.1           18.1                73.8             13.9   \n",
       "1                   3.4           28.0                76.5             16.1   \n",
       "2                   5.5           48.2                84.1             22.8   \n",
       "3                   4.9           44.9                85.4             21.4   \n",
       "4                   3.3           33.1                77.5             15.6   \n",
       "...                 ...            ...                 ...              ...   \n",
       "72332               2.8           19.8                77.7             11.5   \n",
       "72333               3.2           26.8                76.0             14.6   \n",
       "72334               2.4           21.8                74.6             13.2   \n",
       "72335               3.7           30.8                74.5             15.3   \n",
       "72336               2.3           25.5                73.0             17.1   \n",
       "\n",
       "       OBESITY_CrudePrev  PHLTH_CrudePrev  SLEEP_CrudePrev  STROKE_CrudePrev  \\\n",
       "0                   28.3              9.2             34.5               1.8   \n",
       "1                   30.5             15.1             35.7               3.9   \n",
       "2                   48.2             22.5             50.3               7.6   \n",
       "3                   46.7             20.7             49.7               7.2   \n",
       "4                   33.8             15.2             35.7               4.2   \n",
       "...                  ...              ...              ...               ...   \n",
       "72332               30.0             10.3             30.0               3.0   \n",
       "72333               35.7             13.7             33.4               3.7   \n",
       "72334               35.0             10.8             32.5               2.7   \n",
       "72335               39.4             15.5             34.0               4.4   \n",
       "72336               36.1             11.6             35.5               2.5   \n",
       "\n",
       "       TEETHLOST_CrudePrev  \n",
       "0                      8.0  \n",
       "1                     18.2  \n",
       "2                     33.3  \n",
       "3                     34.0  \n",
       "4                     15.1  \n",
       "...                    ...  \n",
       "72332                  8.6  \n",
       "72333                 14.4  \n",
       "72334                 10.8  \n",
       "72335                 18.6  \n",
       "72336                 14.5  \n",
       "\n",
       "[72337 rows x 34 columns]"
      ]
     },
     "execution_count": 7,
     "metadata": {},
     "output_type": "execute_result"
    }
   ],
   "source": [
    "census_df"
   ]
  },
  {
   "cell_type": "code",
   "execution_count": 8,
   "id": "72c565ee",
   "metadata": {},
   "outputs": [],
   "source": [
    "census_df = census_df.drop(columns=[\"StateAbbr\", \"StateDesc\", \"CountyName\"])"
   ]
  },
  {
   "cell_type": "code",
   "execution_count": 9,
   "id": "6861da25",
   "metadata": {},
   "outputs": [],
   "source": [
    "census_df = census_df.dropna()"
   ]
  },
  {
   "cell_type": "code",
   "execution_count": 10,
   "id": "479b5454",
   "metadata": {},
   "outputs": [
    {
     "data": {
      "text/plain": [
       "TotalPopulation           0\n",
       "ACCESS2_CrudePrev         0\n",
       "ARTHRITIS_CrudePrev       0\n",
       "BINGE_CrudePrev           0\n",
       "BPHIGH_CrudePrev          0\n",
       "BPMED_CrudePrev           0\n",
       "CANCER_CrudePrev          0\n",
       "CASTHMA_CrudePrev         0\n",
       "CERVICAL_CrudePrev        0\n",
       "CHD_CrudePrev             0\n",
       "CHECKUP_CrudePrev         0\n",
       "CHOLSCREEN_CrudePrev      0\n",
       "COLON_SCREEN_CrudePrev    0\n",
       "COPD_CrudePrev            0\n",
       "COREM_CrudePrev           0\n",
       "COREW_CrudePrev           0\n",
       "CSMOKING_CrudePrev        0\n",
       "DENTAL_CrudePrev          0\n",
       "DEPRESSION_CrudePrev      0\n",
       "DIABETES_CrudePrev        0\n",
       "GHLTH_CrudePrev           0\n",
       "HIGHCHOL_CrudePrev        0\n",
       "KIDNEY_CrudePrev          0\n",
       "LPA_CrudePrev             0\n",
       "MAMMOUSE_CrudePrev        0\n",
       "MHLTH_CrudePrev           0\n",
       "OBESITY_CrudePrev         0\n",
       "PHLTH_CrudePrev           0\n",
       "SLEEP_CrudePrev           0\n",
       "STROKE_CrudePrev          0\n",
       "TEETHLOST_CrudePrev       0\n",
       "dtype: int64"
      ]
     },
     "execution_count": 10,
     "metadata": {},
     "output_type": "execute_result"
    }
   ],
   "source": [
    "census_df.isna().sum()"
   ]
  },
  {
   "cell_type": "code",
   "execution_count": 11,
   "id": "59358194",
   "metadata": {},
   "outputs": [],
   "source": [
    "from sklearn.preprocessing import StandardScaler\n",
    "from sklearn.linear_model import LinearRegression\n",
    "from sklearn.model_selection import train_test_split"
   ]
  },
  {
   "cell_type": "code",
   "execution_count": 12,
   "id": "b2c7943f",
   "metadata": {},
   "outputs": [],
   "source": [
    "X = census_df.drop(\"SLEEP_CrudePrev\", axis=1)\n",
    "y = census_df[\"SLEEP_CrudePrev\"]"
   ]
  },
  {
   "cell_type": "code",
   "execution_count": 13,
   "id": "f49694d1",
   "metadata": {},
   "outputs": [],
   "source": [
    "X_train, X_test, y_train, y_test = train_test_split(X, y, random_state=0)"
   ]
  },
  {
   "cell_type": "code",
   "execution_count": 14,
   "id": "5edb8bab",
   "metadata": {},
   "outputs": [],
   "source": [
    "import matplotlib.pyplot as plt"
   ]
  },
  {
   "cell_type": "code",
   "execution_count": 15,
   "id": "d777d6d0",
   "metadata": {},
   "outputs": [
    {
     "data": {
      "text/plain": [
       "<matplotlib.collections.PathCollection at 0x297b77598c8>"
      ]
     },
     "execution_count": 15,
     "metadata": {},
     "output_type": "execute_result"
    },
    {
     "data": {
      "image/png": "[encoded data removed]",
      "text/plain": [
       "<Figure size 432x288 with 1 Axes>"
      ]
     },
     "metadata": {
      "needs_background": "light"
     },
     "output_type": "display_data"
    }
   ],
   "source": [
    "plt.scatter(census_df[\"ACCESS2_CrudePrev\"],census_df[\"CANCER_CrudePrev\"], color='green')"
   ]
  },
  {
   "cell_type": "code",
   "execution_count": 16,
   "id": "e7648abf",
   "metadata": {},
   "outputs": [
    {
     "data": {
      "text/plain": [
       "<matplotlib.collections.PathCollection at 0x297b9a8b548>"
      ]
     },
     "execution_count": 16,
     "metadata": {},
     "output_type": "execute_result"
    },
    {
     "data": {
      "image/png": "[encoded data removed]",
      "text/plain": [
       "<Figure size 432x288 with 1 Axes>"
      ]
     },
     "metadata": {
      "needs_background": "light"
     },
     "output_type": "display_data"
    }
   ],
   "source": [
    "plt.scatter(census_df[\"ACCESS2_CrudePrev\"],census_df[\"OBESITY_CrudePrev\"], color='green')"
   ]
  },
  {
   "cell_type": "code",
   "execution_count": 17,
   "id": "d12d4cf6",
   "metadata": {},
   "outputs": [
    {
     "data": {
      "text/plain": [
       "<matplotlib.collections.PathCollection at 0x297b9c3c388>"
      ]
     },
     "execution_count": 17,
     "metadata": {},
     "output_type": "execute_result"
    },
    {
     "data": {
      "image/png": "[encoded data removed]",
      "text/plain": [
       "<Figure size 432x288 with 1 Axes>"
      ]
     },
     "metadata": {
      "needs_background": "light"
     },
     "output_type": "display_data"
    }
   ],
   "source": [
    "plt.scatter(census_df[\"CANCER_CrudePrev\"],census_df[\"SLEEP_CrudePrev\"], color='green')"
   ]
  },
  {
   "cell_type": "code",
   "execution_count": 18,
   "id": "a3c86483",
   "metadata": {},
   "outputs": [
    {
     "data": {
      "text/plain": [
       "<matplotlib.collections.PathCollection at 0x297b9de3448>"
      ]
     },
     "execution_count": 18,
     "metadata": {},
     "output_type": "execute_result"
    },
    {
     "data": {
      "image/png": "[encoded data removed]",
      "text/plain": [
       "<Figure size 432x288 with 1 Axes>"
      ]
     },
     "metadata": {
      "needs_background": "light"
     },
     "output_type": "display_data"
    }
   ],
   "source": [
    "plt.scatter(census_df[\"STROKE_CrudePrev\"],census_df[\"SLEEP_CrudePrev\"], color='green')"
   ]
  },
  {
   "cell_type": "code",
   "execution_count": 19,
   "id": "a5b427eb",
   "metadata": {},
   "outputs": [],
   "source": [
    "model = LinearRegression()"
   ]
  },
  {
   "cell_type": "code",
   "execution_count": 20,
   "id": "e398b8e0",
   "metadata": {},
   "outputs": [
    {
     "data": {
      "text/plain": [
       "LinearRegression()"
      ]
     },
     "execution_count": 20,
     "metadata": {},
     "output_type": "execute_result"
    }
   ],
   "source": [
    "model.fit(X_train, y_train)"
   ]
  },
  {
   "cell_type": "code",
   "execution_count": 21,
   "id": "5e31954b",
   "metadata": {},
   "outputs": [],
   "source": [
    "y_pred = model.predict(X_test)"
   ]
  },
  {
   "cell_type": "code",
   "execution_count": 22,
   "id": "d6a6066b",
   "metadata": {},
   "outputs": [
    {
     "data": {
      "text/plain": [
       "array([31.76558688, 34.19111407, 32.33035349, ..., 22.95401738,\n",
       "       37.68674109, 30.69402637])"
      ]
     },
     "execution_count": 22,
     "metadata": {},
     "output_type": "execute_result"
    }
   ],
   "source": [
    "y_pred"
   ]
  },
  {
   "cell_type": "code",
   "execution_count": 23,
   "id": "395847df",
   "metadata": {},
   "outputs": [],
   "source": [
    "from sklearn.metrics import r2_score"
   ]
  },
  {
   "cell_type": "code",
   "execution_count": 24,
   "id": "5032f299",
   "metadata": {},
   "outputs": [
    {
     "name": "stdout",
     "output_type": "stream",
     "text": [
      "Accuracy if the model is 86.00122181070624\n"
     ]
    }
   ],
   "source": [
    "accuracy = r2_score(y_test, y_pred)*100\n",
    "print(f'Accuracy if the model is {accuracy}')"
   ]
  },
  {
   "cell_type": "code",
   "execution_count": 25,
   "id": "de666ffc",
   "metadata": {},
   "outputs": [],
   "source": [
    "import seaborn as sns"
   ]
  },
  {
   "cell_type": "code",
   "execution_count": 26,
   "id": "694198f7",
   "metadata": {},
   "outputs": [
    {
     "data": {
      "text/plain": [
       "Text(0, 0.5, 'Predicted')"
      ]
     },
     "execution_count": 26,
     "metadata": {},
     "output_type": "execute_result"
    },
    {
     "data": {
      "image/png": "[encoded data removed]",
      "text/plain": [
       "<Figure size 432x288 with 1 Axes>"
      ]
     },
     "metadata": {
      "needs_background": "light"
     },
     "output_type": "display_data"
    }
   ],
   "source": [
    "plt.scatter(y_test, y_pred)\n",
    "plt.xlabel('Actual')\n",
    "plt.ylabel(\"Predicted\")"
   ]
  },
  {
   "cell_type": "code",
   "execution_count": 27,
   "id": "cd7c796c",
   "metadata": {},
   "outputs": [
    {
     "data": {
      "text/plain": [
       "<AxesSubplot:xlabel='SLEEP_CrudePrev'>"
      ]
     },
     "execution_count": 27,
     "metadata": {},
     "output_type": "execute_result"
    },
    {
     "data": {
      "image/png": "[encoded data removed]",
      "text/plain": [
       "<Figure size 432x288 with 1 Axes>"
      ]
     },
     "metadata": {
      "needs_background": "light"
     },
     "output_type": "display_data"
    }
   ],
   "source": [
    "sns.regplot(x=y_test,y=y_pred, ci=None, color=\"blue\", )"
   ]
  },
  {
   "cell_type": "code",
   "execution_count": null,
   "id": "3f5a971c",
   "metadata": {},
   "outputs": [],
   "source": []
  }
 ],
 "metadata": {
  "kernelspec": {
   "display_name": "mlenv",
   "language": "python",
   "name": "mlenv"
  },
  "language_info": {
   "codemirror_mode": {
    "name": "ipython",
    "version": 3
   },
   "file_extension": ".py",
   "mimetype": "text/x-python",
   "name": "python",
   "nbconvert_exporter": "python",
   "pygments_lexer": "ipython3",
   "version": "3.7.13"
  }
 },
 "nbformat": 4,
 "nbformat_minor": 5
}
